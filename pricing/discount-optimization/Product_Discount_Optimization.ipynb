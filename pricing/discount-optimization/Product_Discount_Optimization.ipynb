{
  "nbformat": 4,
  "nbformat_minor": 0,
  "metadata": {
    "colab": {
      "name": "Product Discount Optimization.ipynb",
      "provenance": [],
      "collapsed_sections": [],
      "authorship_tag": "ABX9TyOXGN2AL6tsS7bJYhnqzM9R",
      "include_colab_link": true
    },
    "kernelspec": {
      "name": "python3",
      "display_name": "Python 3"
    }
  },
  "cells": [
    {
      "cell_type": "markdown",
      "metadata": {
        "id": "view-in-github",
        "colab_type": "text"
      },
      "source": [
        "<a href=\"https://colab.research.google.com/github/vanessaaleung/discount-optimization/blob/master/Product_Discount_Optimization.ipynb\" target=\"_parent\"><img src=\"https://colab.research.google.com/assets/colab-badge.svg\" alt=\"Open In Colab\"/></a>"
      ]
    },
    {
      "cell_type": "markdown",
      "metadata": {
        "id": "LjVpKeDhaLRE",
        "colab_type": "text"
      },
      "source": [
        "Edited by: Vanessa Liang"
      ]
    },
    {
      "cell_type": "code",
      "metadata": {
        "id": "Fn5p5YIT6m27",
        "colab_type": "code",
        "colab": {
          "base_uri": "https://localhost:8080/",
          "height": 51
        },
        "outputId": "d15ecbc1-051a-492f-b53b-afe413c31434"
      },
      "source": [
        "import pandas as pd\n",
        "import numpy as np\n",
        "import statsmodels.api as sm\n",
        "import matplotlib.pyplot as plt\n",
        "import math\n",
        "import datetime\n",
        "from scipy.optimize import minimize_scalar\n",
        "from scipy.optimize import minimize\n",
        "from sklearn import preprocessing\n",
        "import seaborn as sns"
      ],
      "execution_count": null,
      "outputs": [
        {
          "output_type": "stream",
          "text": [
            "/usr/local/lib/python3.6/dist-packages/statsmodels/tools/_testing.py:19: FutureWarning: pandas.util.testing is deprecated. Use the functions in the public API at pandas.testing instead.\n",
            "  import pandas.util.testing as tm\n"
          ],
          "name": "stderr"
        }
      ]
    },
    {
      "cell_type": "code",
      "metadata": {
        "id": "8QWHgyk4pdKp",
        "colab_type": "code",
        "colab": {
          "base_uri": "https://localhost:8080/",
          "height": 204
        },
        "outputId": "3fd55ff0-7a6e-4ee5-d480-3e778d32681b"
      },
      "source": [
        "df = pd.read_csv('https://raw.githubusercontent.com/ormarketing/b2b/master/data.csv')\n",
        "df.head()"
      ],
      "execution_count": null,
      "outputs": [
        {
          "output_type": "execute_result",
          "data": {
            "text/html": [
              "<div>\n",
              "<style scoped>\n",
              "    .dataframe tbody tr th:only-of-type {\n",
              "        vertical-align: middle;\n",
              "    }\n",
              "\n",
              "    .dataframe tbody tr th {\n",
              "        vertical-align: top;\n",
              "    }\n",
              "\n",
              "    .dataframe thead th {\n",
              "        text-align: right;\n",
              "    }\n",
              "</style>\n",
              "<table border=\"1\" class=\"dataframe\">\n",
              "  <thead>\n",
              "    <tr style=\"text-align: right;\">\n",
              "      <th></th>\n",
              "      <th>ID</th>\n",
              "      <th>Close Date</th>\n",
              "      <th>Created Date</th>\n",
              "      <th>New Logo</th>\n",
              "      <th>Type</th>\n",
              "      <th>Stage</th>\n",
              "      <th>Billing Plan</th>\n",
              "      <th>ACV</th>\n",
              "      <th>Discount Amount</th>\n",
              "      <th>Amount</th>\n",
              "      <th>Net Amount</th>\n",
              "    </tr>\n",
              "  </thead>\n",
              "  <tbody>\n",
              "    <tr>\n",
              "      <th>0</th>\n",
              "      <td>1</td>\n",
              "      <td>5/26/17</td>\n",
              "      <td>5/4/17</td>\n",
              "      <td>1</td>\n",
              "      <td>Direct - Cloud Product</td>\n",
              "      <td>Closed Lost</td>\n",
              "      <td>3 Years</td>\n",
              "      <td>431370</td>\n",
              "      <td></td>\n",
              "      <td>225000</td>\n",
              "      <td>225000</td>\n",
              "    </tr>\n",
              "    <tr>\n",
              "      <th>1</th>\n",
              "      <td>2</td>\n",
              "      <td>12/29/16</td>\n",
              "      <td>11/29/16</td>\n",
              "      <td>1</td>\n",
              "      <td>Partner - OnPremise Product</td>\n",
              "      <td>Closed Won - Paid</td>\n",
              "      <td>3 Years</td>\n",
              "      <td>22050</td>\n",
              "      <td>80850</td>\n",
              "      <td>147000</td>\n",
              "      <td>66150</td>\n",
              "    </tr>\n",
              "    <tr>\n",
              "      <th>2</th>\n",
              "      <td>3</td>\n",
              "      <td>12/29/16</td>\n",
              "      <td>12/9/16</td>\n",
              "      <td>1</td>\n",
              "      <td>Partner - Cloud Product</td>\n",
              "      <td>Closed Won - Paid</td>\n",
              "      <td>3 Years</td>\n",
              "      <td>32750</td>\n",
              "      <td>43200</td>\n",
              "      <td>96000</td>\n",
              "      <td>52800</td>\n",
              "    </tr>\n",
              "    <tr>\n",
              "      <th>3</th>\n",
              "      <td>4</td>\n",
              "      <td>9/9/16</td>\n",
              "      <td>4/20/16</td>\n",
              "      <td>1</td>\n",
              "      <td>Direct - Cloud Product</td>\n",
              "      <td>Closed Won - Paid</td>\n",
              "      <td>4 Years</td>\n",
              "      <td>36694</td>\n",
              "      <td>44800</td>\n",
              "      <td>128000</td>\n",
              "      <td>83200</td>\n",
              "    </tr>\n",
              "    <tr>\n",
              "      <th>4</th>\n",
              "      <td>5</td>\n",
              "      <td>9/22/16</td>\n",
              "      <td>9/1/16</td>\n",
              "      <td>1</td>\n",
              "      <td>Partner - OnPremise Product</td>\n",
              "      <td>Closed Won - Paid</td>\n",
              "      <td>3 Years</td>\n",
              "      <td>18700</td>\n",
              "      <td>9900</td>\n",
              "      <td>66000</td>\n",
              "      <td>56100</td>\n",
              "    </tr>\n",
              "  </tbody>\n",
              "</table>\n",
              "</div>"
            ],
            "text/plain": [
              "   ID Close Date Created Date  ...   Discount Amount   Amount   Net Amount \n",
              "0   1    5/26/17       5/4/17  ...                      225000       225000\n",
              "1   2   12/29/16     11/29/16  ...              80850   147000        66150\n",
              "2   3   12/29/16      12/9/16  ...              43200    96000        52800\n",
              "3   4     9/9/16      4/20/16  ...              44800   128000        83200\n",
              "4   5    9/22/16       9/1/16  ...               9900    66000        56100\n",
              "\n",
              "[5 rows x 11 columns]"
            ]
          },
          "metadata": {
            "tags": []
          },
          "execution_count": 2
        }
      ]
    },
    {
      "cell_type": "code",
      "metadata": {
        "id": "kB1qy8yp9NHa",
        "colab_type": "code",
        "colab": {}
      },
      "source": [
        "# simplify stage to lost/win\n",
        "df['Stage']=np.where(df['Stage'] =='Closed Lost', 'Lost', df['Stage'])\n",
        "df['Stage']=np.where(df['Stage'] =='Closed Won - Paid', 'Won', df['Stage'])\n",
        "df['Stage']=np.where(df['Stage'] =='Closed Won - Not Paid', 'Won', df['Stage'])\n",
        "df['Stage']=np.where(df['Stage'] =='Closed - Lost', 'Lost', df['Stage'])\n",
        "df['Stage']=np.where(df['Stage'] =='Closed Lost - Not Renewing', 'Lost', df['Stage'])"
      ],
      "execution_count": null,
      "outputs": []
    },
    {
      "cell_type": "code",
      "metadata": {
        "id": "Ukeb-wTe6zaP",
        "colab_type": "code",
        "colab": {
          "base_uri": "https://localhost:8080/",
          "height": 204
        },
        "outputId": "825213a6-38ef-4b83-8e78-ec2f01a768a9"
      },
      "source": [
        "# create dummies for type\n",
        "df['Partner cloud']=np.where(df['Type'] =='Partner - Cloud Product', 1.0,0.0)\n",
        "df['Partner prem']=np.where(df['Type'] =='Partner - OnPremise Product', 1.0, 0.0)\n",
        "df['Direct cloud']=np.where(df['Type'] =='Direct - Cloud Product', 1.0,0.0)\n",
        "df['Direct prem']=np.where(df['Type'] =='Direct - OnPremise Product', 1.0, 0.0)\n",
        "df['amount']=pd.to_numeric(df[' Amount '], errors='coerce')\n",
        "df['net amount']=pd.to_numeric(df[' Net Amount '],errors='coerce')\n",
        "df['discount'] = df['amount'] - df['net amount']\n",
        "df['depth'] = df['discount']/df['amount']\n",
        "df = df.drop([' ACV ',' Discount Amount ',' Amount ', ' Net Amount ', 'Billing Plan'],axis=1)  # Billing-plan is a variable we didn’t use\n",
        "df.head()"
      ],
      "execution_count": null,
      "outputs": [
        {
          "output_type": "execute_result",
          "data": {
            "text/html": [
              "<div>\n",
              "<style scoped>\n",
              "    .dataframe tbody tr th:only-of-type {\n",
              "        vertical-align: middle;\n",
              "    }\n",
              "\n",
              "    .dataframe tbody tr th {\n",
              "        vertical-align: top;\n",
              "    }\n",
              "\n",
              "    .dataframe thead th {\n",
              "        text-align: right;\n",
              "    }\n",
              "</style>\n",
              "<table border=\"1\" class=\"dataframe\">\n",
              "  <thead>\n",
              "    <tr style=\"text-align: right;\">\n",
              "      <th></th>\n",
              "      <th>ID</th>\n",
              "      <th>Close Date</th>\n",
              "      <th>Created Date</th>\n",
              "      <th>New Logo</th>\n",
              "      <th>Type</th>\n",
              "      <th>Stage</th>\n",
              "      <th>Partner cloud</th>\n",
              "      <th>Partner prem</th>\n",
              "      <th>Direct cloud</th>\n",
              "      <th>Direct prem</th>\n",
              "      <th>amount</th>\n",
              "      <th>net amount</th>\n",
              "      <th>discount</th>\n",
              "      <th>depth</th>\n",
              "    </tr>\n",
              "  </thead>\n",
              "  <tbody>\n",
              "    <tr>\n",
              "      <th>0</th>\n",
              "      <td>1</td>\n",
              "      <td>5/26/17</td>\n",
              "      <td>5/4/17</td>\n",
              "      <td>1</td>\n",
              "      <td>Direct - Cloud Product</td>\n",
              "      <td>Lost</td>\n",
              "      <td>0.0</td>\n",
              "      <td>0.0</td>\n",
              "      <td>1.0</td>\n",
              "      <td>0.0</td>\n",
              "      <td>225000.0</td>\n",
              "      <td>225000.0</td>\n",
              "      <td>0.0</td>\n",
              "      <td>0.00</td>\n",
              "    </tr>\n",
              "    <tr>\n",
              "      <th>1</th>\n",
              "      <td>2</td>\n",
              "      <td>12/29/16</td>\n",
              "      <td>11/29/16</td>\n",
              "      <td>1</td>\n",
              "      <td>Partner - OnPremise Product</td>\n",
              "      <td>Won</td>\n",
              "      <td>0.0</td>\n",
              "      <td>1.0</td>\n",
              "      <td>0.0</td>\n",
              "      <td>0.0</td>\n",
              "      <td>147000.0</td>\n",
              "      <td>66150.0</td>\n",
              "      <td>80850.0</td>\n",
              "      <td>0.55</td>\n",
              "    </tr>\n",
              "    <tr>\n",
              "      <th>2</th>\n",
              "      <td>3</td>\n",
              "      <td>12/29/16</td>\n",
              "      <td>12/9/16</td>\n",
              "      <td>1</td>\n",
              "      <td>Partner - Cloud Product</td>\n",
              "      <td>Won</td>\n",
              "      <td>1.0</td>\n",
              "      <td>0.0</td>\n",
              "      <td>0.0</td>\n",
              "      <td>0.0</td>\n",
              "      <td>96000.0</td>\n",
              "      <td>52800.0</td>\n",
              "      <td>43200.0</td>\n",
              "      <td>0.45</td>\n",
              "    </tr>\n",
              "    <tr>\n",
              "      <th>3</th>\n",
              "      <td>4</td>\n",
              "      <td>9/9/16</td>\n",
              "      <td>4/20/16</td>\n",
              "      <td>1</td>\n",
              "      <td>Direct - Cloud Product</td>\n",
              "      <td>Won</td>\n",
              "      <td>0.0</td>\n",
              "      <td>0.0</td>\n",
              "      <td>1.0</td>\n",
              "      <td>0.0</td>\n",
              "      <td>128000.0</td>\n",
              "      <td>83200.0</td>\n",
              "      <td>44800.0</td>\n",
              "      <td>0.35</td>\n",
              "    </tr>\n",
              "    <tr>\n",
              "      <th>4</th>\n",
              "      <td>5</td>\n",
              "      <td>9/22/16</td>\n",
              "      <td>9/1/16</td>\n",
              "      <td>1</td>\n",
              "      <td>Partner - OnPremise Product</td>\n",
              "      <td>Won</td>\n",
              "      <td>0.0</td>\n",
              "      <td>1.0</td>\n",
              "      <td>0.0</td>\n",
              "      <td>0.0</td>\n",
              "      <td>66000.0</td>\n",
              "      <td>56100.0</td>\n",
              "      <td>9900.0</td>\n",
              "      <td>0.15</td>\n",
              "    </tr>\n",
              "  </tbody>\n",
              "</table>\n",
              "</div>"
            ],
            "text/plain": [
              "   ID Close Date Created Date  New Logo  ...    amount net amount  discount  depth\n",
              "0   1    5/26/17       5/4/17         1  ...  225000.0   225000.0       0.0   0.00\n",
              "1   2   12/29/16     11/29/16         1  ...  147000.0    66150.0   80850.0   0.55\n",
              "2   3   12/29/16      12/9/16         1  ...   96000.0    52800.0   43200.0   0.45\n",
              "3   4     9/9/16      4/20/16         1  ...  128000.0    83200.0   44800.0   0.35\n",
              "4   5    9/22/16       9/1/16         1  ...   66000.0    56100.0    9900.0   0.15\n",
              "\n",
              "[5 rows x 14 columns]"
            ]
          },
          "metadata": {
            "tags": []
          },
          "execution_count": 4
        }
      ]
    },
    {
      "cell_type": "markdown",
      "metadata": {
        "id": "2C5rUCvjtcSw",
        "colab_type": "text"
      },
      "source": [
        "**There is probably an “end-of-the-quarter” effect, i.e., as the end of the quarter approaches, salespeople might give deeper discount. You might want to test this hypothesis.**"
      ]
    },
    {
      "cell_type": "markdown",
      "metadata": {
        "id": "4qjOFYpFttEK",
        "colab_type": "text"
      },
      "source": [
        "```\n",
        "From the graph below, we can't conclude there's a \"end-of-the-quarter\" effect.\n",
        "```"
      ]
    },
    {
      "cell_type": "code",
      "metadata": {
        "id": "CAWBEmcnqhtA",
        "colab_type": "code",
        "colab": {
          "base_uri": "https://localhost:8080/",
          "height": 312
        },
        "outputId": "b67bfbb6-d67c-4817-a73b-dd244d8aae28"
      },
      "source": [
        "# plot close date vs depth\n",
        "df['Close Date'] = pd.to_datetime(df['Close Date'])\n",
        "\n",
        "plt.figure(figsize=(25,4))\n",
        "sns.lineplot(x='Close Date', y='depth', data = df, ci=None).set_title(\"Discount Depth vs Date\")\n",
        "\n",
        "# plot the quarter end date\n",
        "plt.axvline(datetime.datetime.strptime('2016-03-31', '%Y-%m-%d'), color='red')\n",
        "plt.axvline(datetime.datetime.strptime('2016-06-30', '%Y-%m-%d'), color='red')\n",
        "plt.axvline(datetime.datetime.strptime('2016-09-30', '%Y-%m-%d'), color='red')\n",
        "plt.axvline(datetime.datetime.strptime('2016-12-31', '%Y-%m-%d'), color='red')\n",
        "plt.axvline(datetime.datetime.strptime('2017-03-31', '%Y-%m-%d'), color='red')\n",
        "plt.axvline(datetime.datetime.strptime('2017-06-30', '%Y-%m-%d'), color='red')"
      ],
      "execution_count": null,
      "outputs": [
        {
          "output_type": "execute_result",
          "data": {
            "text/plain": [
              "<matplotlib.lines.Line2D at 0x7f792e3a36d8>"
            ]
          },
          "metadata": {
            "tags": []
          },
          "execution_count": 5
        },
        {
          "output_type": "display_data",
          "data": {
            "image/png": "[encoded data removed]",
            "text/plain": [
              "<Figure size 1800x288 with 1 Axes>"
            ]
          },
          "metadata": {
            "tags": [],
            "needs_background": "light"
          }
        }
      ]
    },
    {
      "cell_type": "code",
      "metadata": {
        "id": "OY0be98ThX1z",
        "colab_type": "code",
        "colab": {
          "base_uri": "https://localhost:8080/",
          "height": 331
        },
        "outputId": "68bd93dc-ab85-49f4-c946-d24c450d708e"
      },
      "source": [
        "# plot average discount for each product\n",
        "plt.figure(figsize=(8,4))\n",
        "avg_discount = pd.DataFrame(df.groupby('Type', as_index=False)['discount'].mean())\n",
        "fig = sns.barplot('Type', 'discount', data = avg_discount, palette='Blues')\n",
        "fig.set_title(\"Average Discount\")\n",
        "fig.set_xticklabels(fig.get_xticklabels(), rotation=15)\n",
        "ax = plt.gca()\n",
        "for p in ax.patches:\n",
        "    ax.text(p.get_x() + p.get_width()/2., p.get_height(), '%d' % int(p.get_height()), ha='center')"
      ],
      "execution_count": null,
      "outputs": [
        {
          "output_type": "display_data",
          "data": {
            "image/png": "[encoded data removed]",
            "text/plain": [
              "<Figure size 576x288 with 1 Axes>"
            ]
          },
          "metadata": {
            "tags": [],
            "needs_background": "light"
          }
        }
      ]
    },
    {
      "cell_type": "markdown",
      "metadata": {
        "id": "1BHM9n6X6tQb",
        "colab_type": "text"
      },
      "source": [
        "**1. Split the data in two samples, i.e., the estimation sample (ID 1 to 1200) and the hold- out sample (ID 1201 to 1505).**"
      ]
    },
    {
      "cell_type": "code",
      "metadata": {
        "id": "OCIdCGnp8D8W",
        "colab_type": "code",
        "colab": {
          "base_uri": "https://localhost:8080/",
          "height": 34
        },
        "outputId": "160e7f5c-da86-4674-cfd2-0b7475c93513"
      },
      "source": [
        "estimation_sample = df[(df[\"ID\"] >= 1) & (df[\"ID\"] <= 1200)]\n",
        "hold_out_sample = df[(df[\"ID\"] >= 1201) & (df[\"ID\"] <= 1505)]\n",
        "estimation_sample = estimation_sample.drop(['ID'],axis=1)\n",
        "hold_out_sample = hold_out_sample.drop(['ID'],axis=1).reset_index()\n",
        "print(len(estimation_sample), len(hold_out_sample))"
      ],
      "execution_count": null,
      "outputs": [
        {
          "output_type": "stream",
          "text": [
            "1200 305\n"
          ],
          "name": "stdout"
        }
      ]
    },
    {
      "cell_type": "markdown",
      "metadata": {
        "id": "F6TWkr0x8hI2",
        "colab_type": "text"
      },
      "source": [
        "**2. Using the estimation sample, estimate one or several logit models (or something else).**"
      ]
    },
    {
      "cell_type": "code",
      "metadata": {
        "id": "acH2tlly6p-l",
        "colab_type": "code",
        "colab": {
          "base_uri": "https://localhost:8080/",
          "height": 408
        },
        "outputId": "19a298d6-128c-4c83-ec2b-b3f945123478"
      },
      "source": [
        "estimation_sample['y'] = np.where(estimation_sample['Stage'] =='Won', 1.0,0.0)\n",
        "y = estimation_sample['y']\n",
        "x = estimation_sample[['discount','amount','New Logo', 'Partner cloud', 'Partner prem', 'Direct cloud','Direct prem']]\n",
        "model = sm.Logit(y, x, missing='drop')\n",
        "model.fit\n",
        "result = model.fit()\n",
        "print(result.summary())"
      ],
      "execution_count": null,
      "outputs": [
        {
          "output_type": "stream",
          "text": [
            "Optimization terminated successfully.\n",
            "         Current function value: 0.445041\n",
            "         Iterations 8\n",
            "                           Logit Regression Results                           \n",
            "==============================================================================\n",
            "Dep. Variable:                      y   No. Observations:                 1151\n",
            "Model:                          Logit   Df Residuals:                     1144\n",
            "Method:                           MLE   Df Model:                            6\n",
            "Date:                Thu, 04 Jun 2020   Pseudo R-squ.:                  0.3318\n",
            "Time:                        00:27:01   Log-Likelihood:                -512.24\n",
            "converged:                       True   LL-Null:                       -766.56\n",
            "Covariance Type:            nonrobust   LLR p-value:                1.160e-106\n",
            "=================================================================================\n",
            "                    coef    std err          z      P>|z|      [0.025      0.975]\n",
            "---------------------------------------------------------------------------------\n",
            "discount       5.506e-05   6.59e-06      8.352      0.000    4.21e-05     6.8e-05\n",
            "amount        -1.804e-06    1.1e-06     -1.639      0.101   -3.96e-06    3.53e-07\n",
            "New Logo          2.1419      0.172     12.475      0.000       1.805       2.478\n",
            "Partner cloud    -2.6405      0.267     -9.891      0.000      -3.164      -2.117\n",
            "Partner prem     -1.7741      0.153    -11.630      0.000      -2.073      -1.475\n",
            "Direct cloud     -3.0963      0.420     -7.364      0.000      -3.920      -2.272\n",
            "Direct prem      -2.5071      0.214    -11.698      0.000      -2.927      -2.087\n",
            "=================================================================================\n"
          ],
          "name": "stdout"
        }
      ]
    },
    {
      "cell_type": "code",
      "metadata": {
        "id": "D6u-9jvk9-mS",
        "colab_type": "code",
        "colab": {
          "base_uri": "https://localhost:8080/",
          "height": 51
        },
        "outputId": "ce19ebfb-522b-4497-c694-ac0745b1bc6f"
      },
      "source": [
        "# optimization\n",
        "x = hold_out_sample[['discount','amount','New Logo', 'Partner cloud', 'Partner prem', 'Direct cloud','Direct prem']]\n",
        "\n",
        "ID = 0\n",
        "ID_max = len(hold_out_sample)\n",
        "optimized_discount = np.empty([ID_max, ])\n",
        "\n",
        "def revenue_optimal_discount(d):\n",
        "  numerator = np.exp(utility + discount_coef * np.sqrt(d ** 2))\n",
        "  denominator = (1 + np.exp(utility + discount_coef * np.sqrt(d ** 2)))\n",
        "  return - numerator / denominator * (amount_of_id - np.sqrt(d ** 2))\n",
        "\n",
        "while ID <= ID_max - 1:\n",
        "  utility = np.matmul(x.iloc[ID, 1:7], result.params[1:7]) \n",
        "  discount_coef = result.params[0]\n",
        "  amount_of_id = x.iloc[ID, 1]\n",
        "  sol3 = minimize_scalar(revenue_optimal_discount)\n",
        "  optimized_discount[ID] = sol3.x\n",
        "  ID += 1\n",
        "print(\"Mean of Optimized discount: \", round(np.mean(optimized_discount), 0))\n",
        "print(\"Mean of Actual discount: \", round(np.mean(hold_out_sample['discount']), 0))"
      ],
      "execution_count": null,
      "outputs": [
        {
          "output_type": "stream",
          "text": [
            "Mean of Optimized discount:  13557.0\n",
            "Mean of Actual discount:  12685.0\n"
          ],
          "name": "stdout"
        }
      ]
    },
    {
      "cell_type": "code",
      "metadata": {
        "id": "J_rKnDugAX_P",
        "colab_type": "code",
        "colab": {
          "base_uri": "https://localhost:8080/",
          "height": 204
        },
        "outputId": "eccf3d64-1c39-4f51-f002-b1e70674f27f"
      },
      "source": [
        "# calculate average optimal discount\n",
        "hold_out_sample['optimal discount'] = np.sqrt(optimized_discount ** 2)\n",
        "round(hold_out_sample.groupby('Type').mean(),2)"
      ],
      "execution_count": null,
      "outputs": [
        {
          "output_type": "execute_result",
          "data": {
            "text/html": [
              "<div>\n",
              "<style scoped>\n",
              "    .dataframe tbody tr th:only-of-type {\n",
              "        vertical-align: middle;\n",
              "    }\n",
              "\n",
              "    .dataframe tbody tr th {\n",
              "        vertical-align: top;\n",
              "    }\n",
              "\n",
              "    .dataframe thead th {\n",
              "        text-align: right;\n",
              "    }\n",
              "</style>\n",
              "<table border=\"1\" class=\"dataframe\">\n",
              "  <thead>\n",
              "    <tr style=\"text-align: right;\">\n",
              "      <th></th>\n",
              "      <th>index</th>\n",
              "      <th>New Logo</th>\n",
              "      <th>Partner cloud</th>\n",
              "      <th>Partner prem</th>\n",
              "      <th>Direct cloud</th>\n",
              "      <th>Direct prem</th>\n",
              "      <th>amount</th>\n",
              "      <th>net amount</th>\n",
              "      <th>discount</th>\n",
              "      <th>depth</th>\n",
              "      <th>optimal discount</th>\n",
              "    </tr>\n",
              "    <tr>\n",
              "      <th>Type</th>\n",
              "      <th></th>\n",
              "      <th></th>\n",
              "      <th></th>\n",
              "      <th></th>\n",
              "      <th></th>\n",
              "      <th></th>\n",
              "      <th></th>\n",
              "      <th></th>\n",
              "      <th></th>\n",
              "      <th></th>\n",
              "      <th></th>\n",
              "    </tr>\n",
              "  </thead>\n",
              "  <tbody>\n",
              "    <tr>\n",
              "      <th>Direct - Cloud Product</th>\n",
              "      <td>1315.00</td>\n",
              "      <td>0.71</td>\n",
              "      <td>0.0</td>\n",
              "      <td>0.0</td>\n",
              "      <td>1.0</td>\n",
              "      <td>0.0</td>\n",
              "      <td>64117.65</td>\n",
              "      <td>51645.88</td>\n",
              "      <td>12471.76</td>\n",
              "      <td>0.13</td>\n",
              "      <td>22118.00</td>\n",
              "    </tr>\n",
              "    <tr>\n",
              "      <th>Direct - OnPremise Product</th>\n",
              "      <td>1359.00</td>\n",
              "      <td>0.32</td>\n",
              "      <td>0.0</td>\n",
              "      <td>0.0</td>\n",
              "      <td>0.0</td>\n",
              "      <td>1.0</td>\n",
              "      <td>33464.41</td>\n",
              "      <td>30527.40</td>\n",
              "      <td>2937.01</td>\n",
              "      <td>0.04</td>\n",
              "      <td>8453.22</td>\n",
              "    </tr>\n",
              "    <tr>\n",
              "      <th>Partner - Cloud Product</th>\n",
              "      <td>1317.28</td>\n",
              "      <td>0.83</td>\n",
              "      <td>1.0</td>\n",
              "      <td>0.0</td>\n",
              "      <td>0.0</td>\n",
              "      <td>0.0</td>\n",
              "      <td>141035.94</td>\n",
              "      <td>88406.72</td>\n",
              "      <td>52629.22</td>\n",
              "      <td>0.22</td>\n",
              "      <td>32126.23</td>\n",
              "    </tr>\n",
              "    <tr>\n",
              "      <th>Partner - OnPremise Product</th>\n",
              "      <td>1359.85</td>\n",
              "      <td>0.36</td>\n",
              "      <td>0.0</td>\n",
              "      <td>1.0</td>\n",
              "      <td>0.0</td>\n",
              "      <td>0.0</td>\n",
              "      <td>52695.51</td>\n",
              "      <td>42431.60</td>\n",
              "      <td>10492.98</td>\n",
              "      <td>0.09</td>\n",
              "      <td>11950.59</td>\n",
              "    </tr>\n",
              "  </tbody>\n",
              "</table>\n",
              "</div>"
            ],
            "text/plain": [
              "                               index  New Logo  ...  depth  optimal discount\n",
              "Type                                            ...                         \n",
              "Direct - Cloud Product       1315.00      0.71  ...   0.13          22118.00\n",
              "Direct - OnPremise Product   1359.00      0.32  ...   0.04           8453.22\n",
              "Partner - Cloud Product      1317.28      0.83  ...   0.22          32126.23\n",
              "Partner - OnPremise Product  1359.85      0.36  ...   0.09          11950.59\n",
              "\n",
              "[4 rows x 11 columns]"
            ]
          },
          "metadata": {
            "tags": []
          },
          "execution_count": 10
        }
      ]
    },
    {
      "cell_type": "markdown",
      "metadata": {
        "id": "b__E5ndkB_YD",
        "colab_type": "text"
      },
      "source": [
        "**Your performance metrics are (I’ll use these two metrics to compare groups):**\n",
        "\n",
        "**a. Expected revenue improvement over un-optimized discounts (take the actual discounts in the data-set) for leads in the hold-out sample**"
      ]
    },
    {
      "cell_type": "code",
      "metadata": {
        "id": "XUxmBvZxJY8S",
        "colab_type": "code",
        "colab": {}
      },
      "source": [
        "# calculate optimized revenue\n",
        "x = hold_out_sample[['discount','amount','New Logo','Partner cloud','Partner prem','Direct cloud','Direct prem']]\n",
        "\n",
        "ID = 0\n",
        "ID_max = len(hold_out_sample)\n",
        "optimized_revenue = np.empty([ID_max,])\n",
        "\n",
        "while ID <= ID_max-1:\n",
        "  col_idx = 0\n",
        "  utility = 0\n",
        "  while col_idx < len(x.columns):\n",
        "    utility += x.iloc[ID][col_idx] * result.params[col_idx]\n",
        "    col_idx += 1\n",
        "  proba = np.exp(utility)/(1 + np.exp(utility))\n",
        "  optimized_revenue[ID] = proba * (x['amount'][ID] - x['discount'][ID])\n",
        "  ID += 1\n",
        "optimized_revenue = np.nan_to_num(optimized_revenue)"
      ],
      "execution_count": null,
      "outputs": []
    },
    {
      "cell_type": "code",
      "metadata": {
        "id": "9M9SQiMHJkNy",
        "colab_type": "code",
        "colab": {
          "base_uri": "https://localhost:8080/",
          "height": 34
        },
        "outputId": "87f6d5b5-9cfd-4147-9990-5490723da1e7"
      },
      "source": [
        "hold_out_sample['Revenue'] = np.where(hold_out_sample['Stage'] =='Won', hold_out_sample['net amount'] ,0.0)\n",
        "print(\"Optimized expected revenue / Actual revenues = \", round(np.sum(optimized_revenue)/np.sum(hold_out_sample['Revenue']),2))"
      ],
      "execution_count": null,
      "outputs": [
        {
          "output_type": "stream",
          "text": [
            "Optimized expected revenue / Actual revenues =  1.2\n"
          ],
          "name": "stdout"
        }
      ]
    },
    {
      "cell_type": "code",
      "metadata": {
        "id": "p7tDkL9zJi92",
        "colab_type": "code",
        "colab": {
          "base_uri": "https://localhost:8080/",
          "height": 204
        },
        "outputId": "11b8198c-505a-4f3e-9655-23185722b123"
      },
      "source": [
        "hold_out_sample['Optimized Revenue'] = optimized_revenue\n",
        "hold_out_sample['Improved Revenue'] = hold_out_sample['Optimized Revenue'] - hold_out_sample['Revenue']\n",
        "hold_out_sample_copy = hold_out_sample[['Type', 'discount','optimal discount','Revenue','Optimized Revenue', 'Improved Revenue']]\n",
        "hold_out_group = round(hold_out_sample_copy.groupby('Type').mean(), 2)\n",
        "hold_out_group['Improved Revenue %'] = round(hold_out_group['Improved Revenue']/hold_out_group['Revenue'], 2)\n",
        "hold_out_group"
      ],
      "execution_count": null,
      "outputs": [
        {
          "output_type": "execute_result",
          "data": {
            "text/html": [
              "<div>\n",
              "<style scoped>\n",
              "    .dataframe tbody tr th:only-of-type {\n",
              "        vertical-align: middle;\n",
              "    }\n",
              "\n",
              "    .dataframe tbody tr th {\n",
              "        vertical-align: top;\n",
              "    }\n",
              "\n",
              "    .dataframe thead th {\n",
              "        text-align: right;\n",
              "    }\n",
              "</style>\n",
              "<table border=\"1\" class=\"dataframe\">\n",
              "  <thead>\n",
              "    <tr style=\"text-align: right;\">\n",
              "      <th></th>\n",
              "      <th>discount</th>\n",
              "      <th>optimal discount</th>\n",
              "      <th>Revenue</th>\n",
              "      <th>Optimized Revenue</th>\n",
              "      <th>Improved Revenue</th>\n",
              "      <th>Improved Revenue %</th>\n",
              "    </tr>\n",
              "    <tr>\n",
              "      <th>Type</th>\n",
              "      <th></th>\n",
              "      <th></th>\n",
              "      <th></th>\n",
              "      <th></th>\n",
              "      <th></th>\n",
              "      <th></th>\n",
              "    </tr>\n",
              "  </thead>\n",
              "  <tbody>\n",
              "    <tr>\n",
              "      <th>Direct - Cloud Product</th>\n",
              "      <td>12471.76</td>\n",
              "      <td>22118.00</td>\n",
              "      <td>9029.41</td>\n",
              "      <td>20208.02</td>\n",
              "      <td>11178.61</td>\n",
              "      <td>1.24</td>\n",
              "    </tr>\n",
              "    <tr>\n",
              "      <th>Direct - OnPremise Product</th>\n",
              "      <td>2937.01</td>\n",
              "      <td>8453.22</td>\n",
              "      <td>4851.02</td>\n",
              "      <td>6530.49</td>\n",
              "      <td>1679.47</td>\n",
              "      <td>0.35</td>\n",
              "    </tr>\n",
              "    <tr>\n",
              "      <th>Partner - Cloud Product</th>\n",
              "      <td>52629.22</td>\n",
              "      <td>32126.23</td>\n",
              "      <td>58460.92</td>\n",
              "      <td>59098.55</td>\n",
              "      <td>637.63</td>\n",
              "      <td>0.01</td>\n",
              "    </tr>\n",
              "    <tr>\n",
              "      <th>Partner - OnPremise Product</th>\n",
              "      <td>10492.98</td>\n",
              "      <td>11950.59</td>\n",
              "      <td>15357.20</td>\n",
              "      <td>19499.54</td>\n",
              "      <td>4287.85</td>\n",
              "      <td>0.28</td>\n",
              "    </tr>\n",
              "  </tbody>\n",
              "</table>\n",
              "</div>"
            ],
            "text/plain": [
              "                             discount  ...  Improved Revenue %\n",
              "Type                                   ...                    \n",
              "Direct - Cloud Product       12471.76  ...                1.24\n",
              "Direct - OnPremise Product    2937.01  ...                0.35\n",
              "Partner - Cloud Product      52629.22  ...                0.01\n",
              "Partner - OnPremise Product  10492.98  ...                0.28\n",
              "\n",
              "[4 rows x 6 columns]"
            ]
          },
          "metadata": {
            "tags": []
          },
          "execution_count": 13
        }
      ]
    },
    {
      "cell_type": "markdown",
      "metadata": {
        "id": "gpw1Wf72JWjn",
        "colab_type": "text"
      },
      "source": [
        "**b. Expected revenue improvement over optimized discounts (based on your estimation results, optimize discounts offered to leads in the hold-out sample).**"
      ]
    },
    {
      "cell_type": "code",
      "metadata": {
        "id": "401Qy0rQEU9D",
        "colab_type": "code",
        "colab": {}
      },
      "source": [
        "# calculate optimized revenue\n",
        "x = hold_out_sample[['optimal discount','amount','New Logo','Partner cloud','Partner prem','Direct cloud','Direct prem']]\n",
        "\n",
        "ID = 0\n",
        "ID_max = len(hold_out_sample)\n",
        "optimized_revenue = np.empty([ID_max,])\n",
        "\n",
        "while ID <= ID_max-1:\n",
        "  col_idx = 0\n",
        "  utility = 0\n",
        "  while col_idx < len(x.columns):\n",
        "    utility = utility + x.iloc[ID][col_idx] * result.params[col_idx]\n",
        "    col_idx += 1\n",
        "  proba = np.exp(utility)/(1 + np.exp(utility))\n",
        "  optimized_revenue[ID] = proba * (x['amount'][ID] - optimized_discount[ID])\n",
        "  ID += 1\n",
        "optimized_revenue = np.nan_to_num(optimized_revenue)"
      ],
      "execution_count": null,
      "outputs": []
    },
    {
      "cell_type": "code",
      "metadata": {
        "id": "UtRnho86EgOW",
        "colab_type": "code",
        "colab": {
          "base_uri": "https://localhost:8080/",
          "height": 34
        },
        "outputId": "ca042e07-f5d3-49be-ffe4-3992d508bdc7"
      },
      "source": [
        "hold_out_sample['Revenue'] = np.where(hold_out_sample['Stage'] =='Won', hold_out_sample['net amount'] ,0.0)\n",
        "print(\"Optimized expected revenue / Actual revenues = \", round(np.sum(optimized_revenue)/np.sum(hold_out_sample['Revenue']),2))"
      ],
      "execution_count": null,
      "outputs": [
        {
          "output_type": "stream",
          "text": [
            "Optimized expected revenue / Actual revenues =  1.61\n"
          ],
          "name": "stdout"
        }
      ]
    },
    {
      "cell_type": "code",
      "metadata": {
        "id": "s8DRiJP3IIIu",
        "colab_type": "code",
        "colab": {
          "base_uri": "https://localhost:8080/",
          "height": 204
        },
        "outputId": "e0966408-bb53-44d6-b2d3-f361a49b4345"
      },
      "source": [
        "hold_out_sample['Optimized Revenue'] = optimized_revenue\n",
        "hold_out_sample['Improved Revenue'] = hold_out_sample['Optimized Revenue'] - hold_out_sample['Revenue']\n",
        "hold_out_sample_copy = hold_out_sample[['Type','discount','optimal discount','Revenue','Optimized Revenue', 'Improved Revenue']]\n",
        "hold_out_group = round(hold_out_sample_copy.groupby('Type').mean(), 2)\n",
        "hold_out_group['Improved Revenue %'] = round(hold_out_group['Improved Revenue']/hold_out_group['Revenue'], 2)\n",
        "hold_out_group"
      ],
      "execution_count": null,
      "outputs": [
        {
          "output_type": "execute_result",
          "data": {
            "text/html": [
              "<div>\n",
              "<style scoped>\n",
              "    .dataframe tbody tr th:only-of-type {\n",
              "        vertical-align: middle;\n",
              "    }\n",
              "\n",
              "    .dataframe tbody tr th {\n",
              "        vertical-align: top;\n",
              "    }\n",
              "\n",
              "    .dataframe thead th {\n",
              "        text-align: right;\n",
              "    }\n",
              "</style>\n",
              "<table border=\"1\" class=\"dataframe\">\n",
              "  <thead>\n",
              "    <tr style=\"text-align: right;\">\n",
              "      <th></th>\n",
              "      <th>discount</th>\n",
              "      <th>optimal discount</th>\n",
              "      <th>Revenue</th>\n",
              "      <th>Optimized Revenue</th>\n",
              "      <th>Improved Revenue</th>\n",
              "      <th>Improved Revenue %</th>\n",
              "    </tr>\n",
              "    <tr>\n",
              "      <th>Type</th>\n",
              "      <th></th>\n",
              "      <th></th>\n",
              "      <th></th>\n",
              "      <th></th>\n",
              "      <th></th>\n",
              "      <th></th>\n",
              "    </tr>\n",
              "  </thead>\n",
              "  <tbody>\n",
              "    <tr>\n",
              "      <th>Direct - Cloud Product</th>\n",
              "      <td>12471.76</td>\n",
              "      <td>22118.00</td>\n",
              "      <td>9029.41</td>\n",
              "      <td>24332.93</td>\n",
              "      <td>15303.51</td>\n",
              "      <td>1.69</td>\n",
              "    </tr>\n",
              "    <tr>\n",
              "      <th>Direct - OnPremise Product</th>\n",
              "      <td>2937.01</td>\n",
              "      <td>8453.22</td>\n",
              "      <td>4851.02</td>\n",
              "      <td>8067.76</td>\n",
              "      <td>3216.75</td>\n",
              "      <td>0.66</td>\n",
              "    </tr>\n",
              "    <tr>\n",
              "      <th>Partner - Cloud Product</th>\n",
              "      <td>52629.22</td>\n",
              "      <td>32126.23</td>\n",
              "      <td>58460.92</td>\n",
              "      <td>90747.89</td>\n",
              "      <td>32286.97</td>\n",
              "      <td>0.55</td>\n",
              "    </tr>\n",
              "    <tr>\n",
              "      <th>Partner - OnPremise Product</th>\n",
              "      <td>10492.98</td>\n",
              "      <td>11950.59</td>\n",
              "      <td>15357.20</td>\n",
              "      <td>24114.16</td>\n",
              "      <td>8841.47</td>\n",
              "      <td>0.58</td>\n",
              "    </tr>\n",
              "  </tbody>\n",
              "</table>\n",
              "</div>"
            ],
            "text/plain": [
              "                             discount  ...  Improved Revenue %\n",
              "Type                                   ...                    \n",
              "Direct - Cloud Product       12471.76  ...                1.69\n",
              "Direct - OnPremise Product    2937.01  ...                0.66\n",
              "Partner - Cloud Product      52629.22  ...                0.55\n",
              "Partner - OnPremise Product  10492.98  ...                0.58\n",
              "\n",
              "[4 rows x 6 columns]"
            ]
          },
          "metadata": {
            "tags": []
          },
          "execution_count": 16
        }
      ]
    }
  ]
}
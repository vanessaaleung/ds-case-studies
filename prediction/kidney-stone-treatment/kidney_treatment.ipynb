{
  "nbformat": 4,
  "nbformat_minor": 0,
  "metadata": {
    "kernelspec": {
      "name": "ir",
      "display_name": "R",
      "language": "R"
    },
    "language_info": {
      "name": "R",
      "codemirror_mode": "r",
      "pygments_lexer": "r",
      "mimetype": "text/x-r-source",
      "file_extension": ".r",
      "version": "3.5.3"
    },
    "colab": {
      "name": "kidney_treatment.ipynb",
      "provenance": [],
      "collapsed_sections": [],
      "include_colab_link": true
    }
  },
  "cells": [
    {
      "cell_type": "markdown",
      "metadata": {
        "id": "view-in-github",
        "colab_type": "text"
      },
      "source": [
        "<a href=\"https://colab.research.google.com/github/vanessaaleung/ds-case-studies/blob/master/kidney-stone-treatment/kidney_treatment.ipynb\" target=\"_parent\"><img src=\"https://colab.research.google.com/assets/colab-badge.svg\" alt=\"Open In Colab\"/></a>"
      ]
    },
    {
      "cell_type": "markdown",
      "metadata": {
        "id": "uBDrcg4elRPN",
        "colab_type": "text"
      },
      "source": [
        "## Read the data\n",
        "\n",
        "The data contains three columns: treatment (A or B), stone_size (large or small) and success (0 = Failure or 1 = Success)."
      ]
    },
    {
      "cell_type": "code",
      "metadata": {
        "dc": {
          "key": "2"
        },
        "tags": [
          "sample_code"
        ],
        "trusted": true,
        "id": "XgiJpyvK2LE4",
        "colab_type": "code",
        "colab": {},
        "outputId": "7cd927bd-9948-4ea4-c3b5-f1011d9deefc"
      },
      "source": [
        "library(readr)\n",
        "library(dplyr)\n",
        "\n",
        "data <- read_csv('datasets/kidney_stone_data.csv')\n",
        "head(data)"
      ],
      "execution_count": null,
      "outputs": [
        {
          "output_type": "stream",
          "text": [
            "Parsed with column specification:\n",
            "cols(\n",
            "  treatment = \u001b[31mcol_character()\u001b[39m,\n",
            "  stone_size = \u001b[31mcol_character()\u001b[39m,\n",
            "  success = \u001b[32mcol_double()\u001b[39m\n",
            ")\n"
          ],
          "name": "stderr"
        },
        {
          "output_type": "display_data",
          "data": {
            "text/html": [
              "<table>\n",
              "<caption>A tibble: 6 x 3</caption>\n",
              "<thead>\n",
              "\t<tr><th scope=col>treatment</th><th scope=col>stone_size</th><th scope=col>success</th></tr>\n",
              "\t<tr><th scope=col>&lt;chr&gt;</th><th scope=col>&lt;chr&gt;</th><th scope=col>&lt;dbl&gt;</th></tr>\n",
              "</thead>\n",
              "<tbody>\n",
              "\t<tr><td>B</td><td>large</td><td>1</td></tr>\n",
              "\t<tr><td>A</td><td>large</td><td>1</td></tr>\n",
              "\t<tr><td>A</td><td>large</td><td>0</td></tr>\n",
              "\t<tr><td>A</td><td>large</td><td>1</td></tr>\n",
              "\t<tr><td>A</td><td>large</td><td>1</td></tr>\n",
              "\t<tr><td>B</td><td>large</td><td>1</td></tr>\n",
              "</tbody>\n",
              "</table>\n"
            ],
            "text/markdown": "\nA tibble: 6 x 3\n\n| treatment &lt;chr&gt; | stone_size &lt;chr&gt; | success &lt;dbl&gt; |\n|---|---|---|\n| B | large | 1 |\n| A | large | 1 |\n| A | large | 0 |\n| A | large | 1 |\n| A | large | 1 |\n| B | large | 1 |\n\n",
            "text/latex": "A tibble: 6 x 3\n\\begin{tabular}{r|lll}\n treatment & stone\\_size & success\\\\\n <chr> & <chr> & <dbl>\\\\\n\\hline\n\t B & large & 1\\\\\n\t A & large & 1\\\\\n\t A & large & 0\\\\\n\t A & large & 1\\\\\n\t A & large & 1\\\\\n\t B & large & 1\\\\\n\\end{tabular}\n",
            "text/plain": [
              "  treatment stone_size success\n",
              "1 B         large      1      \n",
              "2 A         large      1      \n",
              "3 A         large      0      \n",
              "4 A         large      1      \n",
              "5 A         large      1      \n",
              "6 B         large      1      "
            ]
          },
          "metadata": {
            "tags": []
          }
        }
      ]
    },
    {
      "cell_type": "markdown",
      "metadata": {
        "dc": {
          "key": "9"
        },
        "deletable": false,
        "editable": false,
        "run_control": {
          "frozen": true
        },
        "tags": [
          "context"
        ],
        "id": "ttx2bCVd2LE8",
        "colab_type": "text"
      },
      "source": [
        "## 1. Recreate the Treatment X Success summary table\n",
        "<p>From the treatment and success rate descriptive table, we saw that treatment B performed better on average compared to treatment A (82% vs. 78% success rate). </p>"
      ]
    },
    {
      "cell_type": "code",
      "metadata": {
        "dc": {
          "key": "9"
        },
        "tags": [
          "sample_code"
        ],
        "trusted": true,
        "id": "nNaGRK_H2LE8",
        "colab_type": "code",
        "colab": {},
        "outputId": "8448326e-47e5-4096-c6d9-f122f3a3c0c9"
      },
      "source": [
        "data %>% \n",
        "  group_by(treatment, success) %>%\n",
        "  summarise(N = n()) %>% \n",
        "  mutate(Freq = round(N/sum(N), 3))"
      ],
      "execution_count": null,
      "outputs": [
        {
          "output_type": "stream",
          "text": [
            "`summarise()` regrouping output by 'treatment' (override with `.groups` argument)\n"
          ],
          "name": "stderr"
        },
        {
          "output_type": "display_data",
          "data": {
            "text/html": [
              "<table>\n",
              "<caption>A grouped_df: 4 x 4</caption>\n",
              "<thead>\n",
              "\t<tr><th scope=col>treatment</th><th scope=col>success</th><th scope=col>N</th><th scope=col>Freq</th></tr>\n",
              "\t<tr><th scope=col>&lt;chr&gt;</th><th scope=col>&lt;dbl&gt;</th><th scope=col>&lt;int&gt;</th><th scope=col>&lt;dbl&gt;</th></tr>\n",
              "</thead>\n",
              "<tbody>\n",
              "\t<tr><td>A</td><td>0</td><td> 77</td><td>0.220</td></tr>\n",
              "\t<tr><td>A</td><td>1</td><td>273</td><td>0.780</td></tr>\n",
              "\t<tr><td>B</td><td>0</td><td> 61</td><td>0.174</td></tr>\n",
              "\t<tr><td>B</td><td>1</td><td>289</td><td>0.826</td></tr>\n",
              "</tbody>\n",
              "</table>\n"
            ],
            "text/markdown": "\nA grouped_df: 4 x 4\n\n| treatment &lt;chr&gt; | success &lt;dbl&gt; | N &lt;int&gt; | Freq &lt;dbl&gt; |\n|---|---|---|---|\n| A | 0 |  77 | 0.220 |\n| A | 1 | 273 | 0.780 |\n| B | 0 |  61 | 0.174 |\n| B | 1 | 289 | 0.826 |\n\n",
            "text/latex": "A grouped_df: 4 x 4\n\\begin{tabular}{r|llll}\n treatment & success & N & Freq\\\\\n <chr> & <dbl> & <int> & <dbl>\\\\\n\\hline\n\t A & 0 &  77 & 0.220\\\\\n\t A & 1 & 273 & 0.780\\\\\n\t B & 0 &  61 & 0.174\\\\\n\t B & 1 & 289 & 0.826\\\\\n\\end{tabular}\n",
            "text/plain": [
              "  treatment success N   Freq \n",
              "1 A         0        77 0.220\n",
              "2 A         1       273 0.780\n",
              "3 B         0        61 0.174\n",
              "4 B         1       289 0.826"
            ]
          },
          "metadata": {
            "tags": []
          }
        }
      ]
    },
    {
      "cell_type": "markdown",
      "metadata": {
        "dc": {
          "key": "16"
        },
        "deletable": false,
        "editable": false,
        "run_control": {
          "frozen": true
        },
        "tags": [
          "context"
        ],
        "id": "4gIyBnQv2LE_",
        "colab_type": "text"
      },
      "source": [
        "## 2. Bringing stone size into the picture\n",
        "<p>What is going on here? When stratified by stone size, treatment A had better results for both large and small stones compared to treatment B (i.e., 73% and 93% v.s. 69% and 87%).</p>"
      ]
    },
    {
      "cell_type": "code",
      "metadata": {
        "dc": {
          "key": "16"
        },
        "tags": [
          "sample_code"
        ],
        "trusted": true,
        "id": "1B9w-yVb2LE_",
        "colab_type": "code",
        "colab": {},
        "outputId": "9055723a-1126-47dc-9de7-9669ac7a8832"
      },
      "source": [
        "sum_data <- \n",
        "  data %>% \n",
        "  group_by(treatment, stone_size, success) %>%\n",
        "  summarise(N = n()) %>%\n",
        "  mutate(Freq = round(N/sum(N), 3))\n",
        "\n",
        "sum_data"
      ],
      "execution_count": null,
      "outputs": [
        {
          "output_type": "stream",
          "text": [
            "`summarise()` regrouping output by 'treatment', 'stone_size' (override with `.groups` argument)\n"
          ],
          "name": "stderr"
        },
        {
          "output_type": "display_data",
          "data": {
            "text/html": [
              "<table>\n",
              "<caption>A grouped_df: 8 x 5</caption>\n",
              "<thead>\n",
              "\t<tr><th scope=col>treatment</th><th scope=col>stone_size</th><th scope=col>success</th><th scope=col>N</th><th scope=col>Freq</th></tr>\n",
              "\t<tr><th scope=col>&lt;chr&gt;</th><th scope=col>&lt;chr&gt;</th><th scope=col>&lt;dbl&gt;</th><th scope=col>&lt;int&gt;</th><th scope=col>&lt;dbl&gt;</th></tr>\n",
              "</thead>\n",
              "<tbody>\n",
              "\t<tr><td>A</td><td>large</td><td>0</td><td> 71</td><td>0.270</td></tr>\n",
              "\t<tr><td>A</td><td>large</td><td>1</td><td>192</td><td>0.730</td></tr>\n",
              "\t<tr><td>A</td><td>small</td><td>0</td><td>  6</td><td>0.069</td></tr>\n",
              "\t<tr><td>A</td><td>small</td><td>1</td><td> 81</td><td>0.931</td></tr>\n",
              "\t<tr><td>B</td><td>large</td><td>0</td><td> 25</td><td>0.312</td></tr>\n",
              "\t<tr><td>B</td><td>large</td><td>1</td><td> 55</td><td>0.688</td></tr>\n",
              "\t<tr><td>B</td><td>small</td><td>0</td><td> 36</td><td>0.133</td></tr>\n",
              "\t<tr><td>B</td><td>small</td><td>1</td><td>234</td><td>0.867</td></tr>\n",
              "</tbody>\n",
              "</table>\n"
            ],
            "text/markdown": "\nA grouped_df: 8 x 5\n\n| treatment &lt;chr&gt; | stone_size &lt;chr&gt; | success &lt;dbl&gt; | N &lt;int&gt; | Freq &lt;dbl&gt; |\n|---|---|---|---|---|\n| A | large | 0 |  71 | 0.270 |\n| A | large | 1 | 192 | 0.730 |\n| A | small | 0 |   6 | 0.069 |\n| A | small | 1 |  81 | 0.931 |\n| B | large | 0 |  25 | 0.312 |\n| B | large | 1 |  55 | 0.688 |\n| B | small | 0 |  36 | 0.133 |\n| B | small | 1 | 234 | 0.867 |\n\n",
            "text/latex": "A grouped_df: 8 x 5\n\\begin{tabular}{r|lllll}\n treatment & stone\\_size & success & N & Freq\\\\\n <chr> & <chr> & <dbl> & <int> & <dbl>\\\\\n\\hline\n\t A & large & 0 &  71 & 0.270\\\\\n\t A & large & 1 & 192 & 0.730\\\\\n\t A & small & 0 &   6 & 0.069\\\\\n\t A & small & 1 &  81 & 0.931\\\\\n\t B & large & 0 &  25 & 0.312\\\\\n\t B & large & 1 &  55 & 0.688\\\\\n\t B & small & 0 &  36 & 0.133\\\\\n\t B & small & 1 & 234 & 0.867\\\\\n\\end{tabular}\n",
            "text/plain": [
              "  treatment stone_size success N   Freq \n",
              "1 A         large      0        71 0.270\n",
              "2 A         large      1       192 0.730\n",
              "3 A         small      0         6 0.069\n",
              "4 A         small      1        81 0.931\n",
              "5 B         large      0        25 0.312\n",
              "6 B         large      1        55 0.688\n",
              "7 B         small      0        36 0.133\n",
              "8 B         small      1       234 0.867"
            ]
          },
          "metadata": {
            "tags": []
          }
        }
      ]
    },
    {
      "cell_type": "markdown",
      "metadata": {
        "id": "tIyKOFWqmf_n",
        "colab_type": "text"
      },
      "source": [
        "<p>From the bar plot, we noticed an unbalanced distribution of kidney stone sizes in the two treatment options. Large kidney stone cases tended to be in treatment A, while small kidney stone cases tended to be in treatment B.</p>"
      ]
    },
    {
      "cell_type": "code",
      "metadata": {
        "dc": {
          "key": "23"
        },
        "tags": [
          "sample_code"
        ],
        "trusted": true,
        "id": "tv1Y86PS2LFC",
        "colab_type": "code",
        "colab": {},
        "outputId": "2d4ccc7b-e1ba-443e-d17d-f01adf997e96"
      },
      "source": [
        "library(ggplot2)\n",
        "\n",
        "sum_data %>%\n",
        "  ggplot(aes(x = treatment, y = N)) + \n",
        "  geom_bar(aes(fill = stone_size), stat=\"identity\") "
      ],
      "execution_count": null,
      "outputs": [
        {
          "output_type": "display_data",
          "data": {
            "text/plain": [
              "plot without title"
            ],
            "image/png": "[encoded data removed]"
          },
          "metadata": {
            "tags": []
          }
        }
      ]
    },
    {
      "cell_type": "markdown",
      "metadata": {
        "dc": {
          "key": "30"
        },
        "deletable": false,
        "editable": false,
        "run_control": {
          "frozen": true
        },
        "tags": [
          "context"
        ],
        "id": "gNd0eI102LFF",
        "colab_type": "text"
      },
      "source": [
        "## 3. Identify and confirm the lurking variable\n",
        "<p>Let's analyze the association between stone size (i.e., case severity) and treatment assignment using a statistical test called <strong>Chi-squared</strong>. The <strong>Chi-squared</strong> test is appropriate to test associations between two categorical variables. </p>\n",
        "\n",
        "With the results, we are confident that stone size/case severity is indeed the lurking variable (aka, confounding variable) in this study of kidney stone treatment and success rate. "
      ]
    },
    {
      "cell_type": "code",
      "metadata": {
        "dc": {
          "key": "30"
        },
        "tags": [
          "sample_code"
        ],
        "trusted": true,
        "id": "Po8FjaO-2LFF",
        "colab_type": "code",
        "colab": {},
        "outputId": "28b2f2da-34ae-487e-df3f-28353a69a977"
      },
      "source": [
        "library(broom)\n",
        "\n",
        "trt_ss <- chisq.test(data$treatment, data$stone_size)\n",
        "tidy(trt_ss)"
      ],
      "execution_count": null,
      "outputs": [
        {
          "output_type": "display_data",
          "data": {
            "text/html": [
              "<table>\n",
              "<caption>A tibble: 1 x 4</caption>\n",
              "<thead>\n",
              "\t<tr><th scope=col>statistic</th><th scope=col>p.value</th><th scope=col>parameter</th><th scope=col>method</th></tr>\n",
              "\t<tr><th scope=col>&lt;dbl&gt;</th><th scope=col>&lt;dbl&gt;</th><th scope=col>&lt;int&gt;</th><th scope=col>&lt;chr&gt;</th></tr>\n",
              "</thead>\n",
              "<tbody>\n",
              "\t<tr><td>189.3557</td><td>4.395009e-43</td><td>1</td><td>Pearson's Chi-squared test with Yates' continuity correction</td></tr>\n",
              "</tbody>\n",
              "</table>\n"
            ],
            "text/markdown": "\nA tibble: 1 x 4\n\n| statistic &lt;dbl&gt; | p.value &lt;dbl&gt; | parameter &lt;int&gt; | method &lt;chr&gt; |\n|---|---|---|---|\n| 189.3557 | 4.395009e-43 | 1 | Pearson's Chi-squared test with Yates' continuity correction |\n\n",
            "text/latex": "A tibble: 1 x 4\n\\begin{tabular}{r|llll}\n statistic & p.value & parameter & method\\\\\n <dbl> & <dbl> & <int> & <chr>\\\\\n\\hline\n\t 189.3557 & 4.395009e-43 & 1 & Pearson's Chi-squared test with Yates' continuity correction\\\\\n\\end{tabular}\n",
            "text/plain": [
              "  statistic p.value      parameter\n",
              "1 189.3557  4.395009e-43 1        \n",
              "  method                                                      \n",
              "1 Pearson's Chi-squared test with Yates' continuity correction"
            ]
          },
          "metadata": {
            "tags": []
          }
        }
      ]
    },
    {
      "cell_type": "markdown",
      "metadata": {
        "dc": {
          "key": "37"
        },
        "deletable": false,
        "editable": false,
        "run_control": {
          "frozen": true
        },
        "tags": [
          "context"
        ],
        "id": "T-7jzPgi2LFK",
        "colab_type": "text"
      },
      "source": [
        "## 4. Remove the confounding effect\n",
        "In our example, we are testing to see:</p>\n",
        "<ol>\n",
        "<li>if the effect of a small stone is the same as a big stone, and </li>\n",
        "<li>if treatment A is as effective as treatment B. </li>\n",
        "</ol>\n",
        "\n",
        "<p>Let's use multiple logistic regression to remove the unwanted effect of stone size.</p>"
      ]
    },
    {
      "cell_type": "code",
      "metadata": {
        "dc": {
          "key": "37"
        },
        "tags": [
          "sample_code"
        ],
        "trusted": true,
        "id": "w_XIMPcH2LFL",
        "colab_type": "code",
        "colab": {},
        "outputId": "c3e3d8de-0867-41a9-b8e0-8ff561637b49"
      },
      "source": [
        "m <- glm(data = data, success ~  stone_size + treatment, family = \"binomial\")\n",
        "tidy(m)"
      ],
      "execution_count": null,
      "outputs": [
        {
          "output_type": "display_data",
          "data": {
            "text/html": [
              "<table>\n",
              "<caption>A tibble: 3 x 5</caption>\n",
              "<thead>\n",
              "\t<tr><th scope=col>term</th><th scope=col>estimate</th><th scope=col>std.error</th><th scope=col>statistic</th><th scope=col>p.value</th></tr>\n",
              "\t<tr><th scope=col>&lt;chr&gt;</th><th scope=col>&lt;dbl&gt;</th><th scope=col>&lt;dbl&gt;</th><th scope=col>&lt;dbl&gt;</th><th scope=col>&lt;dbl&gt;</th></tr>\n",
              "</thead>\n",
              "<tbody>\n",
              "\t<tr><td>(Intercept)    </td><td> 1.0332140</td><td>0.1344695</td><td> 7.683629</td><td>1.546436e-14</td></tr>\n",
              "\t<tr><td>stone_sizesmall</td><td> 1.2605654</td><td>0.2390027</td><td> 5.274272</td><td>1.332838e-07</td></tr>\n",
              "\t<tr><td>treatmentB     </td><td>-0.3572287</td><td>0.2290792</td><td>-1.559411</td><td>1.188991e-01</td></tr>\n",
              "</tbody>\n",
              "</table>\n"
            ],
            "text/markdown": "\nA tibble: 3 x 5\n\n| term &lt;chr&gt; | estimate &lt;dbl&gt; | std.error &lt;dbl&gt; | statistic &lt;dbl&gt; | p.value &lt;dbl&gt; |\n|---|---|---|---|---|\n| (Intercept)     |  1.0332140 | 0.1344695 |  7.683629 | 1.546436e-14 |\n| stone_sizesmall |  1.2605654 | 0.2390027 |  5.274272 | 1.332838e-07 |\n| treatmentB      | -0.3572287 | 0.2290792 | -1.559411 | 1.188991e-01 |\n\n",
            "text/latex": "A tibble: 3 x 5\n\\begin{tabular}{r|lllll}\n term & estimate & std.error & statistic & p.value\\\\\n <chr> & <dbl> & <dbl> & <dbl> & <dbl>\\\\\n\\hline\n\t (Intercept)     &  1.0332140 & 0.1344695 &  7.683629 & 1.546436e-14\\\\\n\t stone\\_sizesmall &  1.2605654 & 0.2390027 &  5.274272 & 1.332838e-07\\\\\n\t treatmentB      & -0.3572287 & 0.2290792 & -1.559411 & 1.188991e-01\\\\\n\\end{tabular}\n",
            "text/plain": [
              "  term            estimate   std.error statistic p.value     \n",
              "1 (Intercept)      1.0332140 0.1344695  7.683629 1.546436e-14\n",
              "2 stone_sizesmall  1.2605654 0.2390027  5.274272 1.332838e-07\n",
              "3 treatmentB      -0.3572287 0.2290792 -1.559411 1.188991e-01"
            ]
          },
          "metadata": {
            "tags": []
          }
        }
      ]
    },
    {
      "cell_type": "markdown",
      "metadata": {
        "dc": {
          "key": "44"
        },
        "deletable": false,
        "editable": false,
        "run_control": {
          "frozen": true
        },
        "tags": [
          "context"
        ],
        "id": "NGjtVfos2LFO",
        "colab_type": "text"
      },
      "source": [
        "\n",
        "\n",
        "Look at the 95% confidence interval"
      ]
    },
    {
      "cell_type": "code",
      "metadata": {
        "dc": {
          "key": "44"
        },
        "tags": [
          "sample_code"
        ],
        "trusted": true,
        "id": "brKXMhxJ2LFO",
        "colab_type": "code",
        "colab": {},
        "outputId": "f5b9b43d-2134-46d6-ac76-d8a8a6707bd6"
      },
      "source": [
        "tidy_m <- tidy(m)\n",
        "\n",
        "tidy_m %>%\n",
        "  ggplot(aes(x = tidy_m$term, y = tidy_m$estimate)) + \n",
        "  geom_pointrange(aes(ymin = estimate - 1.96 * std.error, \n",
        "                      ymax = estimate + 1.96 * std.error)) +\n",
        "  geom_hline(yintercept = 0)"
      ],
      "execution_count": null,
      "outputs": [
        {
          "output_type": "display_data",
          "data": {
            "text/plain": [
              "plot without title"
            ],
            "image/png": "[encoded data removed]"
          },
          "metadata": {
            "tags": []
          }
        }
      ]
    },
    {
      "cell_type": "markdown",
      "metadata": {
        "id": "-cDESAonpyzu",
        "colab_type": "text"
      },
      "source": [
        "<p>From the model output, we can conclude that the stone size is positively related to the success rate while the treatment type is not."
      ]
    }
  ]
}

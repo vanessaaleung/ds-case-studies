{
  "nbformat": 4,
  "nbformat_minor": 0,
  "metadata": {
    "coursera": {
      "course_slug": "python-text-mining",
      "graded_item_id": "Pn19K",
      "launcher_item_id": "y1juS",
      "part_id": "ctlgo"
    },
    "kernelspec": {
      "display_name": "Python 3",
      "language": "python",
      "name": "python3"
    },
    "language_info": {
      "codemirror_mode": {
        "name": "ipython",
        "version": 3
      },
      "file_extension": ".py",
      "mimetype": "text/x-python",
      "name": "python",
      "nbconvert_exporter": "python",
      "pygments_lexer": "ipython3",
      "version": "3.7.8"
    },
    "colab": {
      "name": "Spam Email Detection.ipynb",
      "provenance": [],
      "include_colab_link": true
    }
  },
  "cells": [
    {
      "cell_type": "markdown",
      "metadata": {
        "id": "view-in-github",
        "colab_type": "text"
      },
      "source": [
        "<a href=\"https://colab.research.google.com/github/vanessaaleung/ds-case-studies/blob/master/prediction/spam-detection/Spam_Email_Detection.ipynb\" target=\"_parent\"><img src=\"https://colab.research.google.com/assets/colab-badge.svg\" alt=\"Open In Colab\"/></a>"
      ]
    },
    {
      "cell_type": "markdown",
      "metadata": {
        "id": "cW5QKIeJPRPB"
      },
      "source": [
        "# Spam Email Detection\n",
        "Create models to predict if an email message is spam or not\n",
        "\n",
        "1. CountVectorizer & Multinomial Naive Bayes Classifier\n",
        "2. TfidfVectorizer & Multinomial Naive Bayes Classifier\n",
        "3. TfidfVectorizer & Support Vector Classification + Length of Document\n",
        "4. TfidfVectorizer & Logistic Regression + Length of Document + # of digits per Document\n",
        "5. CountVectorizer & Logistic Regression + + Length of Document + # of digits per Document + # of Non-word Characters"
      ]
    },
    {
      "cell_type": "code",
      "metadata": {
        "id": "N9YP36XxPRPC",
        "outputId": "aec84efe-671e-4d81-a0c9-40c552154d49",
        "colab": {
          "base_uri": "https://localhost:8080/",
          "height": 359
        }
      },
      "source": [
        "import warnings\n",
        "warnings.filterwarnings(\"ignore\")\n",
        "import pandas as pd\n",
        "import numpy as np\n",
        "\n",
        "spam_data = pd.read_csv('https://raw.githubusercontent.com/vanessaaleung/ds-case-studies/master/prediction/spam-detection/spam.csv')\n",
        "\n",
        "spam_data['target'] = np.where(spam_data['target']=='spam',1,0)\n",
        "spam_data.head(10)"
      ],
      "execution_count": 1,
      "outputs": [
        {
          "output_type": "execute_result",
          "data": {
            "text/html": [
              "<div>\n",
              "<style scoped>\n",
              "    .dataframe tbody tr th:only-of-type {\n",
              "        vertical-align: middle;\n",
              "    }\n",
              "\n",
              "    .dataframe tbody tr th {\n",
              "        vertical-align: top;\n",
              "    }\n",
              "\n",
              "    .dataframe thead th {\n",
              "        text-align: right;\n",
              "    }\n",
              "</style>\n",
              "<table border=\"1\" class=\"dataframe\">\n",
              "  <thead>\n",
              "    <tr style=\"text-align: right;\">\n",
              "      <th></th>\n",
              "      <th>text</th>\n",
              "      <th>target</th>\n",
              "    </tr>\n",
              "  </thead>\n",
              "  <tbody>\n",
              "    <tr>\n",
              "      <th>0</th>\n",
              "      <td>Go until jurong point, crazy.. Available only ...</td>\n",
              "      <td>0</td>\n",
              "    </tr>\n",
              "    <tr>\n",
              "      <th>1</th>\n",
              "      <td>Ok lar... Joking wif u oni...</td>\n",
              "      <td>0</td>\n",
              "    </tr>\n",
              "    <tr>\n",
              "      <th>2</th>\n",
              "      <td>Free entry in 2 a wkly comp to win FA Cup fina...</td>\n",
              "      <td>1</td>\n",
              "    </tr>\n",
              "    <tr>\n",
              "      <th>3</th>\n",
              "      <td>U dun say so early hor... U c already then say...</td>\n",
              "      <td>0</td>\n",
              "    </tr>\n",
              "    <tr>\n",
              "      <th>4</th>\n",
              "      <td>Nah I don't think he goes to usf, he lives aro...</td>\n",
              "      <td>0</td>\n",
              "    </tr>\n",
              "    <tr>\n",
              "      <th>5</th>\n",
              "      <td>FreeMsg Hey there darling it's been 3 week's n...</td>\n",
              "      <td>1</td>\n",
              "    </tr>\n",
              "    <tr>\n",
              "      <th>6</th>\n",
              "      <td>Even my brother is not like to speak with me. ...</td>\n",
              "      <td>0</td>\n",
              "    </tr>\n",
              "    <tr>\n",
              "      <th>7</th>\n",
              "      <td>As per your request 'Melle Melle (Oru Minnamin...</td>\n",
              "      <td>0</td>\n",
              "    </tr>\n",
              "    <tr>\n",
              "      <th>8</th>\n",
              "      <td>WINNER!! As a valued network customer you have...</td>\n",
              "      <td>1</td>\n",
              "    </tr>\n",
              "    <tr>\n",
              "      <th>9</th>\n",
              "      <td>Had your mobile 11 months or more? U R entitle...</td>\n",
              "      <td>1</td>\n",
              "    </tr>\n",
              "  </tbody>\n",
              "</table>\n",
              "</div>"
            ],
            "text/plain": [
              "                                                text  target\n",
              "0  Go until jurong point, crazy.. Available only ...       0\n",
              "1                      Ok lar... Joking wif u oni...       0\n",
              "2  Free entry in 2 a wkly comp to win FA Cup fina...       1\n",
              "3  U dun say so early hor... U c already then say...       0\n",
              "4  Nah I don't think he goes to usf, he lives aro...       0\n",
              "5  FreeMsg Hey there darling it's been 3 week's n...       1\n",
              "6  Even my brother is not like to speak with me. ...       0\n",
              "7  As per your request 'Melle Melle (Oru Minnamin...       0\n",
              "8  WINNER!! As a valued network customer you have...       1\n",
              "9  Had your mobile 11 months or more? U R entitle...       1"
            ]
          },
          "metadata": {
            "tags": []
          },
          "execution_count": 1
        }
      ]
    },
    {
      "cell_type": "markdown",
      "metadata": {
        "id": "KrbtnyABPRPG"
      },
      "source": [
        "## Data Exploration"
      ]
    },
    {
      "cell_type": "code",
      "metadata": {
        "id": "QpFy_aUVPRPG",
        "outputId": "a85f8e05-9105-499c-d8c6-e9415846c842",
        "colab": {
          "base_uri": "https://localhost:8080/"
        }
      },
      "source": [
        "print(\"Percentage of spam in the data is\", len(spam_data[spam_data['target'] == 1])/len(spam_data) * 100)"
      ],
      "execution_count": 2,
      "outputs": [
        {
          "output_type": "stream",
          "text": [
            "Percentage of spam in the data is 13.406317300789663\n"
          ],
          "name": "stdout"
        }
      ]
    },
    {
      "cell_type": "markdown",
      "metadata": {
        "id": "AIuIr4ZAPRPJ"
      },
      "source": [
        "### Finding 1: Spam message tends to be longer"
      ]
    },
    {
      "cell_type": "code",
      "metadata": {
        "id": "sJ1QLUwWPRPK",
        "outputId": "ab6899d8-bb05-4fce-e051-1403f2040205",
        "colab": {
          "base_uri": "https://localhost:8080/"
        }
      },
      "source": [
        "not_spam = spam_data[spam_data['target'] == 0]['text']\n",
        "spam = spam_data[spam_data['target'] == 1]['text']\n",
        "avg_not_spam_doc_length = sum([len(x) for x in not_spam]) / len(not_spam)\n",
        "avg_spam_doc_length = sum([len(x) for x in spam]) / len(spam)\n",
        "    \n",
        "print(\"Average length of NOT spam message is\", avg_not_spam_doc_length)\n",
        "print(\"Average length of spam message is\", avg_spam_doc_length)"
      ],
      "execution_count": 3,
      "outputs": [
        {
          "output_type": "stream",
          "text": [
            "Average length of NOT spam message is 71.02362694300518\n",
            "Average length of spam message is 138.8661311914324\n"
          ],
          "name": "stdout"
        }
      ]
    },
    {
      "cell_type": "markdown",
      "metadata": {
        "id": "d57t3p01PRPM"
      },
      "source": [
        "### Finding 2: Spam message tends to have more digits"
      ]
    },
    {
      "cell_type": "code",
      "metadata": {
        "id": "jr68LcyAPRPN",
        "outputId": "932726d2-a05b-40b6-cf94-f3a8133ecb97",
        "colab": {
          "base_uri": "https://localhost:8080/"
        }
      },
      "source": [
        "not_spam = spam_data[spam_data['target'] == 0]['text']\n",
        "spam = spam_data[spam_data['target'] == 1]['text']\n",
        "avg_not_spam_digits = sum([sum(c.isdigit() for c in x) for x in not_spam])/len(not_spam)\n",
        "avg_spam_digits = sum([sum(c.isdigit() for c in x) for x in spam])/len(spam)\n",
        "\n",
        "print(\"Average number of digits per document of NOT spam message is\", avg_not_spam_digits)\n",
        "print(\"Average number of digits per document of spam message is\", avg_spam_digits)"
      ],
      "execution_count": 4,
      "outputs": [
        {
          "output_type": "stream",
          "text": [
            "Average number of digits per document of NOT spam message is 0.2992746113989637\n",
            "Average number of digits per document of spam message is 15.759036144578314\n"
          ],
          "name": "stdout"
        }
      ]
    },
    {
      "cell_type": "markdown",
      "metadata": {
        "id": "ZQ9T_hxoPRPP"
      },
      "source": [
        "### Finding 3: Spam message tends to have more non-word characters"
      ]
    },
    {
      "cell_type": "code",
      "metadata": {
        "id": "iO-6SKyLPRPQ",
        "outputId": "8ff983f7-37fc-4457-9281-837d8c6fca3e",
        "colab": {
          "base_uri": "https://localhost:8080/"
        }
      },
      "source": [
        "import re\n",
        "not_spam = spam_data[spam_data['target'] == 0]['text']\n",
        "spam = spam_data[spam_data['target'] == 1]['text']\n",
        "avg_not_spam_non_word = sum([len(re.findall('\\W', x)) for x in not_spam])/len(not_spam)\n",
        "avg_spam_non_word = sum([len(re.findall('\\W', x)) for x in spam])/len(spam)\n",
        "    \n",
        "print(\"Average number of non-word characters per document of NOT spam message is\", avg_not_spam_non_word)\n",
        "print(\"Average number of non-word characters per document of spam message is\", avg_spam_non_word)"
      ],
      "execution_count": 5,
      "outputs": [
        {
          "output_type": "stream",
          "text": [
            "Average number of non-word characters per document of NOT spam message is 17.29181347150259\n",
            "Average number of non-word characters per document of spam message is 29.041499330655956\n"
          ],
          "name": "stdout"
        }
      ]
    },
    {
      "cell_type": "markdown",
      "metadata": {
        "id": "OjZx7wnkPRPT"
      },
      "source": [
        "### Visualize Findings"
      ]
    },
    {
      "cell_type": "code",
      "metadata": {
        "id": "BpzLUlskPRPT",
        "outputId": "05c92188-7180-418b-d693-dbf6b56b8c42",
        "colab": {
          "base_uri": "https://localhost:8080/"
        }
      },
      "source": [
        "import matplotlib\n",
        "from matplotlib import pyplot as plt\n",
        "import matplotlib.style as style\n",
        "import seaborn as sns\n",
        "\n",
        "sns.reset_defaults()\n",
        "style.use('fivethirtyeight')\n",
        "colors = [\"darkgreen\", \"darkred\"]\n",
        "sns.set_palette(sns.color_palette(colors))\n",
        "matplotlib.rcParams['font.family'] = \"serif\"\n",
        "plt.figure(figsize=(8,2))"
      ],
      "execution_count": 56,
      "outputs": [
        {
          "output_type": "execute_result",
          "data": {
            "text/plain": [
              "<Figure size 800x200 with 0 Axes>"
            ]
          },
          "metadata": {
            "tags": []
          },
          "execution_count": 56
        }
      ]
    },
    {
      "cell_type": "code",
      "metadata": {
        "scrolled": true,
        "id": "rtHgKuSPPRPW",
        "outputId": "4d04893c-93f0-44e9-d2fb-a1aa5965f7b4",
        "colab": {
          "base_uri": "https://localhost:8080/",
          "height": 490
        }
      },
      "source": [
        "doc_length_df = pd.DataFrame({'values': [avg_not_spam_doc_length, avg_spam_doc_length], 'metrics': 'message length', 'category': ['non-spam', 'spam']})\n",
        "digits_num_df = pd.DataFrame({'values': [avg_not_spam_digits, avg_spam_digits], 'metrics': '# of digits', 'category': ['non-spam', 'spam']})\n",
        "non_word_df = pd.DataFrame({'values': [avg_not_spam_non_word, avg_spam_non_word], 'metrics': '# of non-word chars', 'category': ['non-spam', 'spam']})\n",
        "dfs = [doc_length_df, digits_num_df, non_word_df]\n",
        "summary_df = pd.concat(dfs)\n",
        "plot = sns.barplot(x='metrics', y='values', hue='category', data=summary_df, alpha=0.8)\n",
        "sns.despine(left=True, bottom=True)\n",
        "title = plot.set_title('Comparison for Spam and Non-spam Message', fontsize=16)\n",
        "xlabel = plot.set_xlabel('Metrics', weight='bold', fontsize=8)\n",
        "ylabel = plot.set_ylabel('Values', weight='bold', fontsize=8)\n",
        "legend = plt.setp(plot.get_legend().get_texts(), fontsize=8)\n",
        "plt.show()"
      ],
      "execution_count": 65,
      "outputs": [
        {
          "output_type": "display_data",
          "data": {
            "image/png": "[encoded data removed]",
            "text/plain": [
              "<Figure size 640x480 with 1 Axes>"
            ]
          },
          "metadata": {
            "tags": []
          }
        }
      ]
    },
    {
      "cell_type": "markdown",
      "metadata": {
        "id": "rEU0HVVvPRPY"
      },
      "source": [
        "## Modeling"
      ]
    },
    {
      "cell_type": "code",
      "metadata": {
        "id": "Sl-IWmX5PRPZ"
      },
      "source": [
        "from sklearn.model_selection import train_test_split\n",
        "\n",
        "\n",
        "X_train, X_test, y_train, y_test = train_test_split(spam_data['text'], \n",
        "                                                    spam_data['target'], \n",
        "                                                    random_state=0)"
      ],
      "execution_count": 8,
      "outputs": []
    },
    {
      "cell_type": "markdown",
      "metadata": {
        "id": "HayeaHe3PRPb"
      },
      "source": [
        "### 1. CountVectorizer & Multinomial Naive Bayes Classifier"
      ]
    },
    {
      "cell_type": "code",
      "metadata": {
        "id": "uVP1IzW2PRPb"
      },
      "source": [
        "from sklearn.feature_extraction.text import CountVectorizer\n",
        "from sklearn.naive_bayes import MultinomialNB\n",
        "from sklearn.metrics import roc_auc_score\n",
        "\n",
        "def model1():\n",
        "    vectorizer = CountVectorizer()\n",
        "    X_train_vectorized = vectorizer.fit_transform(X_train)\n",
        "    X_test_vectorized = vectorizer.transform(X_test)\n",
        "    clf = MultinomialNB(alpha=0.1)\n",
        "    clf.fit(X_train_vectorized, y_train)\n",
        "    y_scores = clf.predict(X_test_vectorized)\n",
        "    \n",
        "    return roc_auc_score(y_test, y_scores)"
      ],
      "execution_count": 9,
      "outputs": []
    },
    {
      "cell_type": "markdown",
      "metadata": {
        "id": "Aw7jqe8yPRPe"
      },
      "source": [
        "### 2. TfidfVectorizer & Multinomial Naive Bayes Classifier\n",
        "\n",
        "- ignoring terms that have a document frequency strictly lower than **3**"
      ]
    },
    {
      "cell_type": "code",
      "metadata": {
        "id": "__toW30oPRPe"
      },
      "source": [
        "from sklearn.feature_extraction.text import TfidfVectorizer\n",
        "\n",
        "def model2():\n",
        "    vectorizer = TfidfVectorizer(min_df=3)\n",
        "    X_train_vectorized = vectorizer.fit_transform(X_train)\n",
        "    X_test_vectorized = vectorizer.transform(X_test)\n",
        "    clf = MultinomialNB(alpha=0.1)\n",
        "    clf.fit(X_train_vectorized, y_train)\n",
        "    y_scores = clf.predict(X_test_vectorized)\n",
        "    \n",
        "    return roc_auc_score(y_test, y_scores)"
      ],
      "execution_count": 10,
      "outputs": []
    },
    {
      "cell_type": "markdown",
      "metadata": {
        "id": "XkKfdxy0PRPg"
      },
      "source": [
        "### 3. TfidfVectorizer & Support Vector Classification + Length of Document\n",
        "\n",
        "- ignoring terms that have a document frequency strictly lower than **5**."
      ]
    },
    {
      "cell_type": "markdown",
      "metadata": {
        "id": "VHw8v3htPRPh"
      },
      "source": [
        "Function that help combine new features into the training data:"
      ]
    },
    {
      "cell_type": "code",
      "metadata": {
        "id": "PYbKVYuiPRPh"
      },
      "source": [
        "def add_feature(X, feature_to_add):\n",
        "    \"\"\"\n",
        "    Returns sparse feature matrix with added feature.\n",
        "    feature_to_add can also be a list of features.\n",
        "    \"\"\"\n",
        "    from scipy.sparse import csr_matrix, hstack\n",
        "    return hstack([X, csr_matrix(feature_to_add).T], 'csr')"
      ],
      "execution_count": 11,
      "outputs": []
    },
    {
      "cell_type": "code",
      "metadata": {
        "id": "xWrJxOkyPRPj"
      },
      "source": [
        "from sklearn.svm import SVC\n",
        "\n",
        "def model3():\n",
        "    vectorizer = TfidfVectorizer(min_df=5)\n",
        "    X_train_vectorized = vectorizer.fit_transform(X_train)\n",
        "    X_train_vectorized = add_feature(X_train_vectorized, [len(x) for x in X_train])\n",
        "    X_test_vectorized = vectorizer.transform(X_test)\n",
        "    X_test_vectorized = add_feature(X_test_vectorized, [len(x) for x in X_test])\n",
        "    clf = SVC(C=10000, random_state=0)\n",
        "    clf.fit(X_train_vectorized, y_train)\n",
        "    y_scores = clf.predict(X_test_vectorized)\n",
        "    \n",
        "    return roc_auc_score(y_test, y_scores)"
      ],
      "execution_count": 12,
      "outputs": []
    },
    {
      "cell_type": "markdown",
      "metadata": {
        "id": "8MzqOBFAPRPm"
      },
      "source": [
        "### 4. TfidfVectorizer & Logistic Regression + Length of Document + # of digits per Document\n",
        "\n",
        "- ignoring terms that have a document frequency strictly lower than **5**\n",
        "- using **word n-grams from n=1 to n=3** (unigrams, bigrams, and trigrams)."
      ]
    },
    {
      "cell_type": "code",
      "metadata": {
        "id": "deQF7PSzPRPm"
      },
      "source": [
        "from sklearn.linear_model import LogisticRegression\n",
        "\n",
        "def model4():\n",
        "    vectorizer = TfidfVectorizer(min_df=5, ngram_range=(1,3))\n",
        "    X_train_vectorized = vectorizer.fit_transform(X_train)\n",
        "    \n",
        "    X_train_vectorized = add_feature(X_train_vectorized, [[len(x) for x in X_train], [sum(c.isdigit() for c in x) for x in X_train]])\n",
        "    X_test_vectorized = vectorizer.transform(X_test)\n",
        "    X_test_vectorized = add_feature(X_test_vectorized, [[len(x) for x in X_test], [sum(c.isdigit() for c in x) for x in X_test]])\n",
        "    \n",
        "    clf = LogisticRegression(C=100, random_state=0)\n",
        "    clf.fit(X_train_vectorized, y_train)\n",
        "    y_scores = clf.predict(X_test_vectorized)\n",
        "    \n",
        "    return roc_auc_score(y_test, y_scores)"
      ],
      "execution_count": 13,
      "outputs": []
    },
    {
      "cell_type": "markdown",
      "metadata": {
        "id": "QakiuJ6sPRPp"
      },
      "source": [
        "### 5. CountVectorizer & Logistic Regression + Length of Document + # of digits per Document + # of Non-word Characters\n",
        "\n",
        "- ignoring terms that have a document frequency strictly lower than **5**\n",
        "- using **character n-grams from n=2 to n=5.**"
      ]
    },
    {
      "cell_type": "code",
      "metadata": {
        "id": "dxJpzFwfPRPp"
      },
      "source": [
        "def model5():\n",
        "    vectorizer = CountVectorizer(min_df=5, ngram_range=(2,5), analyzer='char_wb')\n",
        "    X_train_vectorized = vectorizer.fit_transform(X_train)\n",
        "    X_train_vectorized = add_feature(X_train_vectorized, [[len(x) for x in X_train], [sum(c.isdigit() for c in x) for x in X_train], [sum(not c.isalnum() for c in x) for x in X_train]])\n",
        "    X_test_vectorized = vectorizer.transform(X_test)\n",
        "    X_test_vectorized = add_feature(X_test_vectorized, [[len(x) for x in X_test], [sum(c.isdigit() for c in x) for x in X_test], [sum(not c.isalnum() for c in x) for x in X_test]])\n",
        "    clf = LogisticRegression(C=100, random_state=0)\n",
        "    clf.fit(X_train_vectorized, y_train)\n",
        "    y_scores = clf.predict(X_test_vectorized)\n",
        "        \n",
        "    return roc_auc_score(y_test, y_scores)"
      ],
      "execution_count": 14,
      "outputs": []
    },
    {
      "cell_type": "markdown",
      "metadata": {
        "id": "6bFyziejPRPs"
      },
      "source": [
        "### Model Comparison"
      ]
    },
    {
      "cell_type": "code",
      "metadata": {
        "id": "nQCCK6PnPRPs"
      },
      "source": [
        "model_names = ['Model 1', 'Model 2', 'Model 3', 'Model 4', 'Model 5']\n",
        "auc_scores = [model1(), model2(), model3(), model4(), model5()]\n",
        "added_features = [None, None, 'len(doc)', 'len(doc) + # digits per doc', \\\n",
        "                 'len(doc) + # digits per doc + # non-word chars']\n",
        "text_converter = ['CountVectorizer', 'TfidfVectorizer', 'TfidfVectorizer', 'TfidfVectorizer', 'CountVectorizer']\n",
        "classifiers = ['Multinomial Naive Bayes Classifier', 'Multinomial Naive Bayes Classifier', \\\n",
        "                 'Support Vector Classification', 'Logistic Regression', 'Logistic Regression']"
      ],
      "execution_count": 15,
      "outputs": []
    },
    {
      "cell_type": "code",
      "metadata": {
        "id": "oTDJixolPRPv",
        "outputId": "178b4047-0812-4966-e0ec-248ce1ae1a56",
        "colab": {
          "base_uri": "https://localhost:8080/",
          "height": 204
        }
      },
      "source": [
        "model_comparsion = pd.DataFrame({'auc_scores': auc_scores, 'text_converter': text_converter, \\\n",
        "                                 'classifiers': classifiers, 'added_features': added_features}, index=model_names)\n",
        "model_comparsion.sort_values(by='auc_scores', ascending=False)"
      ],
      "execution_count": 16,
      "outputs": [
        {
          "output_type": "execute_result",
          "data": {
            "text/html": [
              "<div>\n",
              "<style scoped>\n",
              "    .dataframe tbody tr th:only-of-type {\n",
              "        vertical-align: middle;\n",
              "    }\n",
              "\n",
              "    .dataframe tbody tr th {\n",
              "        vertical-align: top;\n",
              "    }\n",
              "\n",
              "    .dataframe thead th {\n",
              "        text-align: right;\n",
              "    }\n",
              "</style>\n",
              "<table border=\"1\" class=\"dataframe\">\n",
              "  <thead>\n",
              "    <tr style=\"text-align: right;\">\n",
              "      <th></th>\n",
              "      <th>auc_scores</th>\n",
              "      <th>text_converter</th>\n",
              "      <th>classifiers</th>\n",
              "      <th>added_features</th>\n",
              "    </tr>\n",
              "  </thead>\n",
              "  <tbody>\n",
              "    <tr>\n",
              "      <th>Model 5</th>\n",
              "      <td>0.981397</td>\n",
              "      <td>CountVectorizer</td>\n",
              "      <td>Logistic Regression</td>\n",
              "      <td>len(doc) + # digits per doc + # non-word chars</td>\n",
              "    </tr>\n",
              "    <tr>\n",
              "      <th>Model 4</th>\n",
              "      <td>0.975903</td>\n",
              "      <td>TfidfVectorizer</td>\n",
              "      <td>Logistic Regression</td>\n",
              "      <td>len(doc) + # digits per doc</td>\n",
              "    </tr>\n",
              "    <tr>\n",
              "      <th>Model 1</th>\n",
              "      <td>0.972081</td>\n",
              "      <td>CountVectorizer</td>\n",
              "      <td>Multinomial Naive Bayes Classifier</td>\n",
              "      <td>None</td>\n",
              "    </tr>\n",
              "    <tr>\n",
              "      <th>Model 3</th>\n",
              "      <td>0.966169</td>\n",
              "      <td>TfidfVectorizer</td>\n",
              "      <td>Support Vector Classification</td>\n",
              "      <td>len(doc)</td>\n",
              "    </tr>\n",
              "    <tr>\n",
              "      <th>Model 2</th>\n",
              "      <td>0.941624</td>\n",
              "      <td>TfidfVectorizer</td>\n",
              "      <td>Multinomial Naive Bayes Classifier</td>\n",
              "      <td>None</td>\n",
              "    </tr>\n",
              "  </tbody>\n",
              "</table>\n",
              "</div>"
            ],
            "text/plain": [
              "         auc_scores  ...                                  added_features\n",
              "Model 5    0.981397  ...  len(doc) + # digits per doc + # non-word chars\n",
              "Model 4    0.975903  ...                     len(doc) + # digits per doc\n",
              "Model 1    0.972081  ...                                            None\n",
              "Model 3    0.966169  ...                                        len(doc)\n",
              "Model 2    0.941624  ...                                            None\n",
              "\n",
              "[5 rows x 4 columns]"
            ]
          },
          "metadata": {
            "tags": []
          },
          "execution_count": 16
        }
      ]
    },
    {
      "cell_type": "markdown",
      "metadata": {
        "id": "sSFpe8n4PRPy"
      },
      "source": [
        "### The best model is Model 5\n",
        "\n",
        "Find the 10 smallest and 10 largest coefficients from the model "
      ]
    },
    {
      "cell_type": "code",
      "metadata": {
        "id": "ocdaw_ESPRPy"
      },
      "source": [
        "def best_model_coefficients():\n",
        "    vectorizer = CountVectorizer(min_df=5, ngram_range=(2,5), analyzer='char_wb')\n",
        "    X_train_vectorized = vectorizer.fit_transform(X_train)\n",
        "    X_train_vectorized = add_feature(X_train_vectorized, [[len(x) for x in X_train], [sum(c.isdigit() for c in x) for x in X_train], [sum(not c.isalnum() for c in x) for x in X_train]])\n",
        "    X_test_vectorized = vectorizer.transform(X_test)\n",
        "    X_test_vectorized = add_feature(X_test_vectorized, [[len(x) for x in X_test], [sum(c.isdigit() for c in x) for x in X_test], [sum(not c.isalnum() for c in x) for x in X_test]])\n",
        "    clf = LogisticRegression(C=100, random_state=0)\n",
        "    clf.fit(X_train_vectorized, y_train)\n",
        "\n",
        "    feature_names = np.array(vectorizer.get_feature_names())\n",
        "    feature_names = np.append(feature_names, ['length_of_doc', 'digit_count', 'non_word_char_count'])\n",
        "    sorted_coef_index = clf.coef_[0].argsort()\n",
        "    smallest_coef = list(feature_names[sorted_coef_index[:10]])\n",
        "    largest_coef = list(feature_names[sorted_coef_index[:-11:-1]])\n",
        "        \n",
        "    return (smallest_coef, largest_coef)"
      ],
      "execution_count": 17,
      "outputs": []
    },
    {
      "cell_type": "code",
      "metadata": {
        "id": "Xbn6B52JPRP0",
        "outputId": "e3496ffd-6197-4114-d2e9-13bf3a3e0a0d",
        "colab": {
          "base_uri": "https://localhost:8080/"
        }
      },
      "source": [
        "print(\"Smallest coefficient in the model:\", best_model_coefficients()[0])\n",
        "print(\"Largest coefficient in the model:\", best_model_coefficients()[1])"
      ],
      "execution_count": 18,
      "outputs": [
        {
          "output_type": "stream",
          "text": [
            "Smallest coefficient in the model: ['..', '. ', ' i', ' go', 'pe', '? ', ' y', ' h', 'ok', 'go']\n",
            "Largest coefficient in the model: ['digit_count', 'co', 'ww', 'ne', 'ar', 'xt', 'ia', ' ch', ' r', 'mob']\n"
          ],
          "name": "stdout"
        }
      ]
    }
  ]
}
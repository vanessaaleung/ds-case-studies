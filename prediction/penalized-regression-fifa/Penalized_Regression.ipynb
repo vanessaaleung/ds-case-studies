{
  "nbformat": 4,
  "nbformat_minor": 0,
  "metadata": {
    "colab": {
      "name": "Penalized Regression.ipynb",
      "provenance": [],
      "collapsed_sections": [
        "0xTEgGWMDoZj",
        "WBB90SIuF3vs",
        "_t4PdEZIeZhd"
      ]
    },
    "kernelspec": {
      "name": "python3",
      "display_name": "Python 3"
    }
  },
  "cells": [
    {
      "cell_type": "markdown",
      "metadata": {
        "id": "Hhvyt4D8BEcG",
        "colab_type": "text"
      },
      "source": [
        "## Load packages & data"
      ]
    },
    {
      "cell_type": "code",
      "metadata": {
        "id": "WfKDVGWYBJKS",
        "colab_type": "code",
        "colab": {}
      },
      "source": [
        "import pandas as pd\n",
        "import numpy as np\n",
        "# plotting\n",
        "import seaborn as sns\n",
        "# standardization\n",
        "from sklearn.preprocessing import StandardScaler\n",
        "# modelling\n",
        "from sklearn.model_selection import train_test_split\n",
        "from sklearn.linear_model import LinearRegression\n",
        "from sklearn.metrics import r2_score\n",
        "from sklearn.model_selection import cross_val_score, cross_val_predict\n",
        "from sklearn.linear_model import Lasso\n",
        "from sklearn.model_selection import GridSearchCV\n",
        "from statsmodels.tools.eval_measures import aicc"
      ],
      "execution_count": 0,
      "outputs": []
    },
    {
      "cell_type": "code",
      "metadata": {
        "id": "Wl8TgNu0BAR_",
        "colab_type": "code",
        "outputId": "ed6912c1-6d74-473b-d599-3efe2c5053d5",
        "colab": {
          "base_uri": "https://localhost:8080/",
          "height": 343
        }
      },
      "source": [
        "fifa = pd.read_csv(\"https://raw.githubusercontent.com/vanessaaleung/rawdata/master/FIFA19data.csv\", encoding = \"ISO-8859-1\")\n",
        "fifa.head()"
      ],
      "execution_count": 0,
      "outputs": [
        {
          "output_type": "execute_result",
          "data": {
            "text/html": [
              "<div>\n",
              "<style scoped>\n",
              "    .dataframe tbody tr th:only-of-type {\n",
              "        vertical-align: middle;\n",
              "    }\n",
              "\n",
              "    .dataframe tbody tr th {\n",
              "        vertical-align: top;\n",
              "    }\n",
              "\n",
              "    .dataframe thead th {\n",
              "        text-align: right;\n",
              "    }\n",
              "</style>\n",
              "<table border=\"1\" class=\"dataframe\">\n",
              "  <thead>\n",
              "    <tr style=\"text-align: right;\">\n",
              "      <th></th>\n",
              "      <th>ID</th>\n",
              "      <th>Name</th>\n",
              "      <th>Age</th>\n",
              "      <th>Nationality</th>\n",
              "      <th>Overall</th>\n",
              "      <th>Potential</th>\n",
              "      <th>Club</th>\n",
              "      <th>Value</th>\n",
              "      <th>Wage</th>\n",
              "      <th>International Reputation</th>\n",
              "      <th>Weak Foot</th>\n",
              "      <th>Skill Moves</th>\n",
              "      <th>Work Rate</th>\n",
              "      <th>Body Type</th>\n",
              "      <th>Position</th>\n",
              "      <th>Contract Valid Until</th>\n",
              "      <th>Crossing</th>\n",
              "      <th>Finishing</th>\n",
              "      <th>HeadingAccuracy</th>\n",
              "      <th>ShortPassing</th>\n",
              "      <th>Volleys</th>\n",
              "      <th>Dribbling</th>\n",
              "      <th>Curve</th>\n",
              "      <th>FKAccuracy</th>\n",
              "      <th>LongPassing</th>\n",
              "      <th>BallControl</th>\n",
              "      <th>Acceleration</th>\n",
              "      <th>SprintSpeed</th>\n",
              "      <th>Agility</th>\n",
              "      <th>Reactions</th>\n",
              "      <th>Balance</th>\n",
              "      <th>ShotPower</th>\n",
              "      <th>Jumping</th>\n",
              "      <th>Stamina</th>\n",
              "      <th>Strength</th>\n",
              "      <th>LongShots</th>\n",
              "      <th>Aggression</th>\n",
              "      <th>Interceptions</th>\n",
              "      <th>Positioning</th>\n",
              "      <th>Vision</th>\n",
              "      <th>Penalties</th>\n",
              "      <th>Composure</th>\n",
              "      <th>Marking</th>\n",
              "      <th>StandingTackle</th>\n",
              "      <th>SlidingTackle</th>\n",
              "      <th>GKDiving</th>\n",
              "      <th>GKHandling</th>\n",
              "      <th>GKKicking</th>\n",
              "      <th>GKPositioning</th>\n",
              "      <th>GKReflexes</th>\n",
              "    </tr>\n",
              "  </thead>\n",
              "  <tbody>\n",
              "    <tr>\n",
              "      <th>0</th>\n",
              "      <td>158023</td>\n",
              "      <td>L. Messi</td>\n",
              "      <td>31</td>\n",
              "      <td>Argentina</td>\n",
              "      <td>94</td>\n",
              "      <td>94</td>\n",
              "      <td>FC Barcelona</td>\n",
              "      <td>110.5M</td>\n",
              "      <td>565K</td>\n",
              "      <td>5.0</td>\n",
              "      <td>4.0</td>\n",
              "      <td>4.0</td>\n",
              "      <td>Medium/ Medium</td>\n",
              "      <td>Messi</td>\n",
              "      <td>RF</td>\n",
              "      <td>2021</td>\n",
              "      <td>84.0</td>\n",
              "      <td>95.0</td>\n",
              "      <td>70.0</td>\n",
              "      <td>90.0</td>\n",
              "      <td>86.0</td>\n",
              "      <td>97.0</td>\n",
              "      <td>93.0</td>\n",
              "      <td>94.0</td>\n",
              "      <td>87.0</td>\n",
              "      <td>96.0</td>\n",
              "      <td>91.0</td>\n",
              "      <td>86.0</td>\n",
              "      <td>91.0</td>\n",
              "      <td>95.0</td>\n",
              "      <td>95.0</td>\n",
              "      <td>85.0</td>\n",
              "      <td>68.0</td>\n",
              "      <td>72.0</td>\n",
              "      <td>59.0</td>\n",
              "      <td>94.0</td>\n",
              "      <td>48.0</td>\n",
              "      <td>22.0</td>\n",
              "      <td>94.0</td>\n",
              "      <td>94.0</td>\n",
              "      <td>75.0</td>\n",
              "      <td>96.0</td>\n",
              "      <td>33.0</td>\n",
              "      <td>28.0</td>\n",
              "      <td>26.0</td>\n",
              "      <td>6.0</td>\n",
              "      <td>11.0</td>\n",
              "      <td>15.0</td>\n",
              "      <td>14.0</td>\n",
              "      <td>8.0</td>\n",
              "    </tr>\n",
              "    <tr>\n",
              "      <th>1</th>\n",
              "      <td>20801</td>\n",
              "      <td>Cristiano Ronaldo</td>\n",
              "      <td>33</td>\n",
              "      <td>Portugal</td>\n",
              "      <td>94</td>\n",
              "      <td>94</td>\n",
              "      <td>Juventus</td>\n",
              "      <td>77M</td>\n",
              "      <td>405K</td>\n",
              "      <td>5.0</td>\n",
              "      <td>4.0</td>\n",
              "      <td>5.0</td>\n",
              "      <td>High/ Low</td>\n",
              "      <td>C. Ronaldo</td>\n",
              "      <td>ST</td>\n",
              "      <td>2022</td>\n",
              "      <td>84.0</td>\n",
              "      <td>94.0</td>\n",
              "      <td>89.0</td>\n",
              "      <td>81.0</td>\n",
              "      <td>87.0</td>\n",
              "      <td>88.0</td>\n",
              "      <td>81.0</td>\n",
              "      <td>76.0</td>\n",
              "      <td>77.0</td>\n",
              "      <td>94.0</td>\n",
              "      <td>89.0</td>\n",
              "      <td>91.0</td>\n",
              "      <td>87.0</td>\n",
              "      <td>96.0</td>\n",
              "      <td>70.0</td>\n",
              "      <td>95.0</td>\n",
              "      <td>95.0</td>\n",
              "      <td>88.0</td>\n",
              "      <td>79.0</td>\n",
              "      <td>93.0</td>\n",
              "      <td>63.0</td>\n",
              "      <td>29.0</td>\n",
              "      <td>95.0</td>\n",
              "      <td>82.0</td>\n",
              "      <td>85.0</td>\n",
              "      <td>95.0</td>\n",
              "      <td>28.0</td>\n",
              "      <td>31.0</td>\n",
              "      <td>23.0</td>\n",
              "      <td>7.0</td>\n",
              "      <td>11.0</td>\n",
              "      <td>15.0</td>\n",
              "      <td>14.0</td>\n",
              "      <td>11.0</td>\n",
              "    </tr>\n",
              "    <tr>\n",
              "      <th>2</th>\n",
              "      <td>190871</td>\n",
              "      <td>Neymar Jr</td>\n",
              "      <td>26</td>\n",
              "      <td>Brazil</td>\n",
              "      <td>92</td>\n",
              "      <td>93</td>\n",
              "      <td>Paris Saint-Germain</td>\n",
              "      <td>118.5M</td>\n",
              "      <td>290K</td>\n",
              "      <td>5.0</td>\n",
              "      <td>5.0</td>\n",
              "      <td>5.0</td>\n",
              "      <td>High/ Medium</td>\n",
              "      <td>Neymar</td>\n",
              "      <td>LW</td>\n",
              "      <td>2022</td>\n",
              "      <td>79.0</td>\n",
              "      <td>87.0</td>\n",
              "      <td>62.0</td>\n",
              "      <td>84.0</td>\n",
              "      <td>84.0</td>\n",
              "      <td>96.0</td>\n",
              "      <td>88.0</td>\n",
              "      <td>87.0</td>\n",
              "      <td>78.0</td>\n",
              "      <td>95.0</td>\n",
              "      <td>94.0</td>\n",
              "      <td>90.0</td>\n",
              "      <td>96.0</td>\n",
              "      <td>94.0</td>\n",
              "      <td>84.0</td>\n",
              "      <td>80.0</td>\n",
              "      <td>61.0</td>\n",
              "      <td>81.0</td>\n",
              "      <td>49.0</td>\n",
              "      <td>82.0</td>\n",
              "      <td>56.0</td>\n",
              "      <td>36.0</td>\n",
              "      <td>89.0</td>\n",
              "      <td>87.0</td>\n",
              "      <td>81.0</td>\n",
              "      <td>94.0</td>\n",
              "      <td>27.0</td>\n",
              "      <td>24.0</td>\n",
              "      <td>33.0</td>\n",
              "      <td>9.0</td>\n",
              "      <td>9.0</td>\n",
              "      <td>15.0</td>\n",
              "      <td>15.0</td>\n",
              "      <td>11.0</td>\n",
              "    </tr>\n",
              "    <tr>\n",
              "      <th>3</th>\n",
              "      <td>193080</td>\n",
              "      <td>De Gea</td>\n",
              "      <td>27</td>\n",
              "      <td>Spain</td>\n",
              "      <td>91</td>\n",
              "      <td>93</td>\n",
              "      <td>Manchester United</td>\n",
              "      <td>72M</td>\n",
              "      <td>260K</td>\n",
              "      <td>4.0</td>\n",
              "      <td>3.0</td>\n",
              "      <td>1.0</td>\n",
              "      <td>Medium/ Medium</td>\n",
              "      <td>Lean</td>\n",
              "      <td>GK</td>\n",
              "      <td>2020</td>\n",
              "      <td>17.0</td>\n",
              "      <td>13.0</td>\n",
              "      <td>21.0</td>\n",
              "      <td>50.0</td>\n",
              "      <td>13.0</td>\n",
              "      <td>18.0</td>\n",
              "      <td>21.0</td>\n",
              "      <td>19.0</td>\n",
              "      <td>51.0</td>\n",
              "      <td>42.0</td>\n",
              "      <td>57.0</td>\n",
              "      <td>58.0</td>\n",
              "      <td>60.0</td>\n",
              "      <td>90.0</td>\n",
              "      <td>43.0</td>\n",
              "      <td>31.0</td>\n",
              "      <td>67.0</td>\n",
              "      <td>43.0</td>\n",
              "      <td>64.0</td>\n",
              "      <td>12.0</td>\n",
              "      <td>38.0</td>\n",
              "      <td>30.0</td>\n",
              "      <td>12.0</td>\n",
              "      <td>68.0</td>\n",
              "      <td>40.0</td>\n",
              "      <td>68.0</td>\n",
              "      <td>15.0</td>\n",
              "      <td>21.0</td>\n",
              "      <td>13.0</td>\n",
              "      <td>90.0</td>\n",
              "      <td>85.0</td>\n",
              "      <td>87.0</td>\n",
              "      <td>88.0</td>\n",
              "      <td>94.0</td>\n",
              "    </tr>\n",
              "    <tr>\n",
              "      <th>4</th>\n",
              "      <td>192985</td>\n",
              "      <td>K. De Bruyne</td>\n",
              "      <td>27</td>\n",
              "      <td>Belgium</td>\n",
              "      <td>91</td>\n",
              "      <td>92</td>\n",
              "      <td>Manchester City</td>\n",
              "      <td>102M</td>\n",
              "      <td>355K</td>\n",
              "      <td>4.0</td>\n",
              "      <td>5.0</td>\n",
              "      <td>4.0</td>\n",
              "      <td>High/ High</td>\n",
              "      <td>Normal</td>\n",
              "      <td>RCM</td>\n",
              "      <td>2023</td>\n",
              "      <td>93.0</td>\n",
              "      <td>82.0</td>\n",
              "      <td>55.0</td>\n",
              "      <td>92.0</td>\n",
              "      <td>82.0</td>\n",
              "      <td>86.0</td>\n",
              "      <td>85.0</td>\n",
              "      <td>83.0</td>\n",
              "      <td>91.0</td>\n",
              "      <td>91.0</td>\n",
              "      <td>78.0</td>\n",
              "      <td>76.0</td>\n",
              "      <td>79.0</td>\n",
              "      <td>91.0</td>\n",
              "      <td>77.0</td>\n",
              "      <td>91.0</td>\n",
              "      <td>63.0</td>\n",
              "      <td>90.0</td>\n",
              "      <td>75.0</td>\n",
              "      <td>91.0</td>\n",
              "      <td>76.0</td>\n",
              "      <td>61.0</td>\n",
              "      <td>87.0</td>\n",
              "      <td>94.0</td>\n",
              "      <td>79.0</td>\n",
              "      <td>88.0</td>\n",
              "      <td>68.0</td>\n",
              "      <td>58.0</td>\n",
              "      <td>51.0</td>\n",
              "      <td>15.0</td>\n",
              "      <td>13.0</td>\n",
              "      <td>5.0</td>\n",
              "      <td>10.0</td>\n",
              "      <td>13.0</td>\n",
              "    </tr>\n",
              "  </tbody>\n",
              "</table>\n",
              "</div>"
            ],
            "text/plain": [
              "       ID               Name  Age  ... GKKicking  GKPositioning  GKReflexes\n",
              "0  158023           L. Messi   31  ...      15.0           14.0         8.0\n",
              "1   20801  Cristiano Ronaldo   33  ...      15.0           14.0        11.0\n",
              "2  190871          Neymar Jr   26  ...      15.0           15.0        11.0\n",
              "3  193080             De Gea   27  ...      87.0           88.0        94.0\n",
              "4  192985       K. De Bruyne   27  ...       5.0           10.0        13.0\n",
              "\n",
              "[5 rows x 50 columns]"
            ]
          },
          "metadata": {
            "tags": []
          },
          "execution_count": 3
        }
      ]
    },
    {
      "cell_type": "markdown",
      "metadata": {
        "id": "0xTEgGWMDoZj",
        "colab_type": "text"
      },
      "source": [
        "## Data Wrangling"
      ]
    },
    {
      "cell_type": "code",
      "metadata": {
        "id": "PdfylbfvDBSj",
        "colab_type": "code",
        "colab": {}
      },
      "source": [
        "# drop unnecessary columns\n",
        "fifa = fifa.drop(columns = [\"ID\", \"Name\", \"Nationality\", \"Club\", \"Value\", \"Wage\", \"Body Type\", \"Potential\"])"
      ],
      "execution_count": 0,
      "outputs": []
    },
    {
      "cell_type": "code",
      "metadata": {
        "id": "IddOrWZPDiLj",
        "colab_type": "code",
        "colab": {}
      },
      "source": [
        "# fill na with mode value\n",
        "for col in fifa.columns:\n",
        "    fifa[col].fillna(value=fifa[col].mode()[0], inplace=True)"
      ],
      "execution_count": 0,
      "outputs": []
    },
    {
      "cell_type": "code",
      "metadata": {
        "id": "0HzFnj-jEJFP",
        "colab_type": "code",
        "colab": {}
      },
      "source": [
        "# convert categorical columns into dummies\n",
        "factors = ['International Reputation', 'Weak Foot', 'Skill Moves', 'Work Rate', 'Position', 'Contract Valid Until']\n",
        "\n",
        "for var in factors:\n",
        "    cat_list='var'+'_'+var\n",
        "    cat_list = pd.get_dummies(fifa[var], prefix=var)\n",
        "    fifa = pd.concat([fifa,cat_list], axis = 1)\n",
        "    fifa = fifa.drop(var, 1)"
      ],
      "execution_count": 0,
      "outputs": []
    },
    {
      "cell_type": "markdown",
      "metadata": {
        "id": "WBB90SIuF3vs",
        "colab_type": "text"
      },
      "source": [
        "## Simple Linear Regression\n",
        "1. Fit a simple linear regression model to predict the overall score of a player and test your model against the test set. Calculate the R^2 for the predictions you made on the test set. How many features are used in this model?\n",
        "  ```\n",
        "  The R^2 is 0.8905 with 122 features being used.\n",
        "  ```\n",
        "2. Using the same training and test sets, fit a simple regression model but with 5-fold cross validation and predict the overall scores of players in the test set. Calculate R^2 for the predictions and compare with the R^2 from question 1. \n",
        "  ```\n",
        "  The R^2 is 0.8955, slightly higher than the R^2 from question 1.\n",
        "  ```\n",
        "\n"
      ]
    },
    {
      "cell_type": "code",
      "metadata": {
        "id": "JPSiES1LDiv3",
        "colab_type": "code",
        "colab": {}
      },
      "source": [
        "# initialize X and Y variables for modelling\n",
        "X = fifa.copy()\n",
        "X = X.drop('Overall', 1)\n",
        "Y = fifa.copy()\n",
        "Y = Y['Overall']"
      ],
      "execution_count": 0,
      "outputs": []
    },
    {
      "cell_type": "code",
      "metadata": {
        "id": "y6FCP8BkDkqk",
        "colab_type": "code",
        "colab": {}
      },
      "source": [
        "# splitting training/teseting data\n",
        "X_train,X_test,y_train,y_test=train_test_split(X,Y, test_size=0.9, random_state=31)"
      ],
      "execution_count": 0,
      "outputs": []
    },
    {
      "cell_type": "code",
      "metadata": {
        "id": "E77-eZmkFuGl",
        "colab_type": "code",
        "outputId": "350df0e1-2074-4f16-ce6b-b02b449dcf5d",
        "colab": {
          "base_uri": "https://localhost:8080/",
          "height": 35
        }
      },
      "source": [
        "# Calculate the R^2 of simple linear regression model\n",
        "lm = LinearRegression()\n",
        "lm.fit(X_train, y_train)\n",
        "lm_predictions = lm.predict(X_test)\n",
        "lm_r2 = r2_score(y_test, lm_predictions)\n",
        "print(lm_r2)"
      ],
      "execution_count": 0,
      "outputs": [
        {
          "output_type": "stream",
          "text": [
            "0.8904970737556854\n"
          ],
          "name": "stdout"
        }
      ]
    },
    {
      "cell_type": "code",
      "metadata": {
        "id": "jHGctuBZGkLf",
        "colab_type": "code",
        "outputId": "d639d2b3-3cfd-4a1a-bf4f-ee080856913e",
        "colab": {
          "base_uri": "https://localhost:8080/",
          "height": 35
        }
      },
      "source": [
        "# #features used\n",
        "len(X_train.columns)"
      ],
      "execution_count": 0,
      "outputs": [
        {
          "output_type": "execute_result",
          "data": {
            "text/plain": [
              "122"
            ]
          },
          "metadata": {
            "tags": []
          },
          "execution_count": 27
        }
      ]
    },
    {
      "cell_type": "code",
      "metadata": {
        "id": "El6J7siCGJHP",
        "colab_type": "code",
        "outputId": "77bbe730-97cb-4b81-b1f0-eed4807b929a",
        "colab": {
          "base_uri": "https://localhost:8080/",
          "height": 52
        }
      },
      "source": [
        "# with 5-fold cross validation\n",
        "cv_predictions = cross_val_predict(lm, X_test, y_test, cv=5)\n",
        "cv_r2 = r2_score(y_test,cv_predictions)\n",
        "print(np,(cross_val_score(lm, X_test, y_test, cv=5))/5)\n",
        "print(cv_r2)"
      ],
      "execution_count": 0,
      "outputs": [
        {
          "output_type": "stream",
          "text": [
            "<module 'numpy' from '/usr/local/lib/python3.6/dist-packages/numpy/__init__.py'> [0.17948    0.17926694 0.17888061 0.1798548  0.17798133]\n",
            "0.895506109826533\n"
          ],
          "name": "stdout"
        }
      ]
    },
    {
      "cell_type": "markdown",
      "metadata": {
        "id": "vrwyzpm1OgUU",
        "colab_type": "text"
      },
      "source": [
        "## Lasso Regression\n",
        "3. fit a Lasso regression to predict the overall scores of players in the test set. Use the default value of alpha. Calculate the R^2 for the predictions you made on the test set and compare with the R^2 from question 1. \n",
        "  ```\n",
        "  The R^2 is 0.8508, lower than the simple linear regression model.\n",
        "  ```\n",
        "4. Do you expect your answer to question 3 to change if you are using ridge- or log- instead of lasso- penalties?\n",
        "    ```\n",
        "    Yes. \n",
        "    Ridge regression penalizes sum of squared coefficients (L2 penalty), lasso penalizes the sum of their absolute values (L1 penalty). \n",
        "    As a result, for high values of λ, many coefficients are exactly zeroed under lasso, which is never the case in ridge regression.\n",
        "    Logarithmic penalty results in a discontinuous thresholding rule whereas lasso result in continuous thresholding rules\n",
        "    (i.e.  enforcing coefficients to be small in a continuous way).\n",
        "    ```\n",
        "\n",
        "\n",
        "\n",
        "5. fit a Lasso regression to predict the overall scores of players with an ideal value for alpha. Your code should try to test different values of alpha and use the ideal one. What, according to your code, is the ideal value of alpha? How many features are being used by the model? Calculate the R^2 for the predictions you made on the test set and compare with the R^2 from question 1. \n",
        "  ```\n",
        "  The ideal value of alpha is 0.01, 59 features are being used by the model. The R^2 is 0.8898, slightly lower than R^2 from question 1.\n",
        "  ```\n",
        "\n"
      ]
    },
    {
      "cell_type": "code",
      "metadata": {
        "id": "rr80yy2PUvdR",
        "colab_type": "code",
        "colab": {}
      },
      "source": [
        "# splitting\n",
        "sc_x = StandardScaler() \n",
        "X_train = sc_x.fit_transform(X_train)  \n",
        "X_test = sc_x.transform(X_test)"
      ],
      "execution_count": 0,
      "outputs": []
    },
    {
      "cell_type": "code",
      "metadata": {
        "id": "xlpCj4KxONrR",
        "colab_type": "code",
        "colab": {}
      },
      "source": [
        "# fitting lasso model\n",
        "lasso = Lasso()\n",
        "lasso.fit(X_train,y_train)\n",
        "lasso_predictions = lasso.predict(X_test)"
      ],
      "execution_count": 0,
      "outputs": []
    },
    {
      "cell_type": "code",
      "metadata": {
        "id": "UYdMPOWqQVNi",
        "colab_type": "code",
        "outputId": "c11f5ceb-82f1-41a5-be79-c7d5f9f54cbb",
        "colab": {
          "base_uri": "https://localhost:8080/",
          "height": 35
        }
      },
      "source": [
        "# #features used\n",
        "coeff_used = np.sum(lasso.coef_!=0)\n",
        "print(coeff_used)\n"
      ],
      "execution_count": 0,
      "outputs": [
        {
          "output_type": "stream",
          "text": [
            "4\n"
          ],
          "name": "stdout"
        }
      ]
    },
    {
      "cell_type": "code",
      "metadata": {
        "id": "e2GgADTYQ_pv",
        "colab_type": "code",
        "outputId": "198fbb9f-f428-4725-c792-2993f91a0b05",
        "colab": {
          "base_uri": "https://localhost:8080/",
          "height": 35
        }
      },
      "source": [
        "# calculate the R^2\n",
        "lasso_r2 = r2_score(y_test, lasso_predictions)\n",
        "print(lasso_r2)"
      ],
      "execution_count": 0,
      "outputs": [
        {
          "output_type": "stream",
          "text": [
            "0.7408777940191329\n"
          ],
          "name": "stdout"
        }
      ]
    },
    {
      "cell_type": "code",
      "metadata": {
        "id": "0hQQqbjARBu2",
        "colab_type": "code",
        "outputId": "836b6236-1393-46c4-a292-1938915b2150",
        "colab": {
          "base_uri": "https://localhost:8080/",
          "height": 904
        }
      },
      "source": [
        "# try out different alpha values\n",
        "parameters = {'alpha': [1e-15, 1e-10, 1e-8, 1e-4, 1e-3,1e-2, 1, 5, 10, 20]}\n",
        "lasso_regressor = GridSearchCV(lasso, parameters, cv = 5)\n",
        "lasso_regressor.fit(X_train, y_train)"
      ],
      "execution_count": 0,
      "outputs": [
        {
          "output_type": "stream",
          "text": [
            "/usr/local/lib/python3.6/dist-packages/sklearn/linear_model/_coordinate_descent.py:476: ConvergenceWarning: Objective did not converge. You might want to increase the number of iterations. Duality gap: 3372.9528864302306, tolerance: 7.07702967032968\n",
            "  positive)\n",
            "/usr/local/lib/python3.6/dist-packages/sklearn/linear_model/_coordinate_descent.py:476: ConvergenceWarning: Objective did not converge. You might want to increase the number of iterations. Duality gap: 3374.0470735778154, tolerance: 7.259854670329669\n",
            "  positive)\n",
            "/usr/local/lib/python3.6/dist-packages/sklearn/linear_model/_coordinate_descent.py:476: ConvergenceWarning: Objective did not converge. You might want to increase the number of iterations. Duality gap: 3263.479916616317, tolerance: 7.131133997252748\n",
            "  positive)\n",
            "/usr/local/lib/python3.6/dist-packages/sklearn/linear_model/_coordinate_descent.py:476: ConvergenceWarning: Objective did not converge. You might want to increase the number of iterations. Duality gap: 3469.794591326632, tolerance: 7.004352747252749\n",
            "  positive)\n",
            "/usr/local/lib/python3.6/dist-packages/sklearn/linear_model/_coordinate_descent.py:476: ConvergenceWarning: Objective did not converge. You might want to increase the number of iterations. Duality gap: 3456.627535284968, tolerance: 7.143148282967029\n",
            "  positive)\n",
            "/usr/local/lib/python3.6/dist-packages/sklearn/linear_model/_coordinate_descent.py:476: ConvergenceWarning: Objective did not converge. You might want to increase the number of iterations. Duality gap: 3371.3871337122723, tolerance: 7.07702967032968\n",
            "  positive)\n",
            "/usr/local/lib/python3.6/dist-packages/sklearn/linear_model/_coordinate_descent.py:476: ConvergenceWarning: Objective did not converge. You might want to increase the number of iterations. Duality gap: 3372.1669554902082, tolerance: 7.259854670329669\n",
            "  positive)\n",
            "/usr/local/lib/python3.6/dist-packages/sklearn/linear_model/_coordinate_descent.py:476: ConvergenceWarning: Objective did not converge. You might want to increase the number of iterations. Duality gap: 3261.587431229053, tolerance: 7.131133997252748\n",
            "  positive)\n",
            "/usr/local/lib/python3.6/dist-packages/sklearn/linear_model/_coordinate_descent.py:476: ConvergenceWarning: Objective did not converge. You might want to increase the number of iterations. Duality gap: 3465.0974750609553, tolerance: 7.004352747252749\n",
            "  positive)\n",
            "/usr/local/lib/python3.6/dist-packages/sklearn/linear_model/_coordinate_descent.py:476: ConvergenceWarning: Objective did not converge. You might want to increase the number of iterations. Duality gap: 3454.703380636667, tolerance: 7.143148282967029\n",
            "  positive)\n",
            "/usr/local/lib/python3.6/dist-packages/sklearn/linear_model/_coordinate_descent.py:476: ConvergenceWarning: Objective did not converge. You might want to increase the number of iterations. Duality gap: 3214.5784961505306, tolerance: 7.07702967032968\n",
            "  positive)\n",
            "/usr/local/lib/python3.6/dist-packages/sklearn/linear_model/_coordinate_descent.py:476: ConvergenceWarning: Objective did not converge. You might want to increase the number of iterations. Duality gap: 3183.4431943561167, tolerance: 7.259854670329669\n",
            "  positive)\n",
            "/usr/local/lib/python3.6/dist-packages/sklearn/linear_model/_coordinate_descent.py:476: ConvergenceWarning: Objective did not converge. You might want to increase the number of iterations. Duality gap: 3071.516473470585, tolerance: 7.131133997252748\n",
            "  positive)\n",
            "/usr/local/lib/python3.6/dist-packages/sklearn/linear_model/_coordinate_descent.py:476: ConvergenceWarning: Objective did not converge. You might want to increase the number of iterations. Duality gap: 2984.4346350414917, tolerance: 7.004352747252749\n",
            "  positive)\n",
            "/usr/local/lib/python3.6/dist-packages/sklearn/linear_model/_coordinate_descent.py:476: ConvergenceWarning: Objective did not converge. You might want to increase the number of iterations. Duality gap: 3261.5620304807094, tolerance: 7.143148282967029\n",
            "  positive)\n",
            "/usr/local/lib/python3.6/dist-packages/sklearn/linear_model/_coordinate_descent.py:476: ConvergenceWarning: Objective did not converge. You might want to increase the number of iterations. Duality gap: 72.68643371922008, tolerance: 7.07702967032968\n",
            "  positive)\n",
            "/usr/local/lib/python3.6/dist-packages/sklearn/linear_model/_coordinate_descent.py:476: ConvergenceWarning: Objective did not converge. You might want to increase the number of iterations. Duality gap: 302.0011636091858, tolerance: 7.259854670329669\n",
            "  positive)\n",
            "/usr/local/lib/python3.6/dist-packages/sklearn/linear_model/_coordinate_descent.py:476: ConvergenceWarning: Objective did not converge. You might want to increase the number of iterations. Duality gap: 125.91082373569498, tolerance: 7.131133997252748\n",
            "  positive)\n",
            "/usr/local/lib/python3.6/dist-packages/sklearn/linear_model/_coordinate_descent.py:476: ConvergenceWarning: Objective did not converge. You might want to increase the number of iterations. Duality gap: 370.40399017684376, tolerance: 7.004352747252749\n",
            "  positive)\n",
            "/usr/local/lib/python3.6/dist-packages/sklearn/linear_model/_coordinate_descent.py:476: ConvergenceWarning: Objective did not converge. You might want to increase the number of iterations. Duality gap: 8.673242655353533, tolerance: 7.143148282967029\n",
            "  positive)\n"
          ],
          "name": "stderr"
        },
        {
          "output_type": "execute_result",
          "data": {
            "text/plain": [
              "GridSearchCV(cv=5, error_score=nan,\n",
              "             estimator=Lasso(alpha=1.0, copy_X=True, fit_intercept=True,\n",
              "                             max_iter=1000, normalize=False, positive=False,\n",
              "                             precompute=False, random_state=None,\n",
              "                             selection='cyclic', tol=0.0001, warm_start=False),\n",
              "             iid='deprecated', n_jobs=None,\n",
              "             param_grid={'alpha': [1e-15, 1e-10, 1e-08, 0.0001, 0.001, 0.01, 1,\n",
              "                                   5, 10, 20]},\n",
              "             pre_dispatch='2*n_jobs', refit=True, return_train_score=False,\n",
              "             scoring=None, verbose=0)"
            ]
          },
          "metadata": {
            "tags": []
          },
          "execution_count": 16
        }
      ]
    },
    {
      "cell_type": "code",
      "metadata": {
        "id": "7RrUTgjNcbfk",
        "colab_type": "code",
        "outputId": "f5e62ad1-032e-45c4-a745-296ab55ef647",
        "colab": {
          "base_uri": "https://localhost:8080/",
          "height": 35
        }
      },
      "source": [
        "# best alpha\n",
        "lasso_regressor.best_params_"
      ],
      "execution_count": 0,
      "outputs": [
        {
          "output_type": "execute_result",
          "data": {
            "text/plain": [
              "{'alpha': 0.01}"
            ]
          },
          "metadata": {
            "tags": []
          },
          "execution_count": 17
        }
      ]
    },
    {
      "cell_type": "code",
      "metadata": {
        "id": "37w0HGg-ctdK",
        "colab_type": "code",
        "outputId": "63bff2e7-9fce-4b5c-ca3c-7619682f9ea2",
        "colab": {
          "base_uri": "https://localhost:8080/",
          "height": 35
        }
      },
      "source": [
        "# #features used\n",
        "coeff_used = np.sum(lasso_regressor.best_estimator_.coef_!=0)\n",
        "print(coeff_used)"
      ],
      "execution_count": 0,
      "outputs": [
        {
          "output_type": "stream",
          "text": [
            "83\n"
          ],
          "name": "stdout"
        }
      ]
    },
    {
      "cell_type": "code",
      "metadata": {
        "id": "dRjBaYeQcbv0",
        "colab_type": "code",
        "outputId": "f9576e4e-3a47-4030-e056-83cc24a538a8",
        "colab": {
          "base_uri": "https://localhost:8080/",
          "height": 35
        }
      },
      "source": [
        "# calculate r^2\n",
        "lasso2_predictions = lasso_regressor.predict(X_test)\n",
        "lasso_r2 = r2_score(y_test, lasso2_predictions)\n",
        "print(lasso_r2)"
      ],
      "execution_count": 0,
      "outputs": [
        {
          "output_type": "stream",
          "text": [
            "0.8911481681827964\n"
          ],
          "name": "stdout"
        }
      ]
    },
    {
      "cell_type": "markdown",
      "metadata": {
        "id": "_t4PdEZIeZhd",
        "colab_type": "text"
      },
      "source": [
        "## AIC & BIC\n",
        "6. Calculate AIC and BIC for the models you built in question 1 and question 5. According to each of the measures, which is the better model? Is BIC always greater than AIC? Please explain. Compare the AICs with the corresponding corrected AICs.\n",
        "  ```\n",
        "  * The lower the AIC & BIC, the better the model. Thus, the Lasso model in question 5 is better.\n",
        "  * The BICs are both greater than AICc in these two models.\n",
        "  * AICc is use to address AIC's potential overfitting on small sample size. \n",
        "  Since the n/df are large in both the models here, both their corrected AIC(AICc) are similar to AICs. \n",
        "  ```\n",
        "7. ICs are alternatives to CVs. Do you trust them equally? Please explain.\n",
        "  ```\n",
        "  No. AIC and BIC are just estimation. AIC tries to approx likelihood penalized by the degrees of freedom, and BIC is the probabilty that the model is true. \n",
        "  AIC accounts makes the assumption that more parameters leads to higher risk of overfitting. \n",
        "  But Cross Validation just looks at the test set performance of the model, with no further assumptions.\n",
        "  ```\n",
        "\n",
        "\n",
        "\n"
      ]
    },
    {
      "cell_type": "code",
      "metadata": {
        "id": "5VAk_cQTdbxW",
        "colab_type": "code",
        "colab": {}
      },
      "source": [
        "# define ICs function\n",
        "def AIC(y_true, y_hat, coeff_used):\n",
        "    resid = y_true - y_hat\n",
        "    sse = sum(resid**2)\n",
        "    n = len(y_hat)\n",
        "    return n*np.log(sse/n) + 2*coeff_used\n",
        "\n",
        "def BIC(y_true, y_hat, coeff_used):\n",
        "    resid = y_true - y_hat\n",
        "    sse = sum(resid**2)\n",
        "    n = len(y_hat)\n",
        "    return n*np.log(sse/n) + np.log(n)*coeff_used\n",
        "\n",
        "def AICc(y_true, y_hat, coeff_used):\n",
        "    resid = y_true - y_hat\n",
        "    sse = sum(resid**2)\n",
        "    n = len(y_hat)\n",
        "    return n*np.log(sse/n) + 2 * coeff_used + ((2 * (coeff_used ** 2) + 2 * coeff_used) / (n - coeff_used - 1))"
      ],
      "execution_count": 0,
      "outputs": []
    },
    {
      "cell_type": "code",
      "metadata": {
        "id": "lnGVQZp9ew4R",
        "colab_type": "code",
        "outputId": "23102a19-cdd5-418e-ea12-74238a3e7fb6",
        "colab": {
          "base_uri": "https://localhost:8080/",
          "height": 69
        }
      },
      "source": [
        "#aic, bic and aicc of question 1(simple model)\n",
        "aic_lm1 = AIC(y_test, lm_predictions, (len(X_test.columns)+1))\n",
        "print(aic_lm1)\n",
        "bic_lm1 = BIC(y_test, lm_predictions, (len(X_test.columns)+1))\n",
        "print(bic_lm1)\n",
        "aicc_lm1 = AICc(y_test, lm_predictions, (len(X_test.columns)+1))\n",
        "print(aicc_lm1)"
      ],
      "execution_count": 0,
      "outputs": [
        {
          "output_type": "stream",
          "text": [
            "27300.326786055306\n",
            "28247.948750890493\n",
            "27302.202454751117\n"
          ],
          "name": "stdout"
        }
      ]
    },
    {
      "cell_type": "code",
      "metadata": {
        "id": "uIe6eoGOe-i_",
        "colab_type": "code",
        "outputId": "c62cacf6-a3b4-4b9e-eec9-f9b93ae883a6",
        "colab": {
          "base_uri": "https://localhost:8080/",
          "height": 69
        }
      },
      "source": [
        "#aic, bic and aicc of question 5(lasso model)\n",
        "aic_lasso2 = AIC(y_test, lasso2_predictions, (coeff_used+1))\n",
        "print(aic_lasso2)\n",
        "bic_lasso2 = BIC(y_test, lasso2_predictions, (coeff_used+1))\n",
        "print(bic_lasso2)\n",
        "aicc_lasso2 = AICc(y_test, lasso2_predictions, (coeff_used+1))\n",
        "print(aicc_lasso2)\n"
      ],
      "execution_count": 0,
      "outputs": [
        {
          "output_type": "stream",
          "text": [
            "27124.600351388897\n",
            "27771.75681517878\n",
            "27125.47631752802\n"
          ],
          "name": "stdout"
        }
      ]
    },
    {
      "cell_type": "code",
      "metadata": {
        "id": "leItV9lvU6iX",
        "colab_type": "code",
        "colab": {}
      },
      "source": [
        ""
      ],
      "execution_count": 0,
      "outputs": []
    }
  ]
}
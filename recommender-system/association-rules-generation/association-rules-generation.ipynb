{
  "nbformat": 4,
  "nbformat_minor": 0,
  "metadata": {
    "colab": {
      "name": "Recommender System using Association Rule Mining",
      "provenance": [],
      "collapsed_sections": []
    },
    "kernelspec": {
      "name": "python3",
      "display_name": "Python 3"
    }
  },
  "cells": [
    {
      "cell_type": "markdown",
      "metadata": {
        "id": "dOH8Rs02IVOq",
        "colab_type": "text"
      },
      "source": [
        "Edited by: Vanessa Liang"
      ]
    },
    {
      "cell_type": "markdown",
      "metadata": {
        "id": "3cZg2CyFrEEz",
        "colab_type": "text"
      },
      "source": [
        "#### **Recommender System using Association Rule Mining**"
      ]
    },
    {
      "cell_type": "code",
      "metadata": {
        "id": "YQ5wED1_Ui_W",
        "colab_type": "code",
        "colab": {}
      },
      "source": [
        "import pandas as pd\n",
        "from mlxtend.preprocessing import TransactionEncoder\n",
        "from mlxtend.frequent_patterns import apriori\n",
        "from mlxtend.frequent_patterns import association_rules"
      ],
      "execution_count": 0,
      "outputs": []
    },
    {
      "cell_type": "code",
      "metadata": {
        "id": "_KoTsaDBrOHr",
        "colab_type": "code",
        "colab": {
          "base_uri": "https://localhost:8080/",
          "height": 359
        },
        "outputId": "44737e25-313e-4614-c1c4-e7350f0a3da9"
      },
      "source": [
        "data = pd.read_csv(\"https://raw.githubusercontent.com/vanessaaleung/rawdata/master/transactions_by_dept.csv\").drop(columns=[\"Unnamed: 4\"])\n",
        "data.head(10)"
      ],
      "execution_count": 155,
      "outputs": [
        {
          "output_type": "execute_result",
          "data": {
            "text/html": [
              "<div>\n",
              "<style scoped>\n",
              "    .dataframe tbody tr th:only-of-type {\n",
              "        vertical-align: middle;\n",
              "    }\n",
              "\n",
              "    .dataframe tbody tr th {\n",
              "        vertical-align: top;\n",
              "    }\n",
              "\n",
              "    .dataframe thead th {\n",
              "        text-align: right;\n",
              "    }\n",
              "</style>\n",
              "<table border=\"1\" class=\"dataframe\">\n",
              "  <thead>\n",
              "    <tr style=\"text-align: right;\">\n",
              "      <th></th>\n",
              "      <th>POS Txn</th>\n",
              "      <th>Dept</th>\n",
              "      <th>ID</th>\n",
              "      <th>Sales U</th>\n",
              "    </tr>\n",
              "  </thead>\n",
              "  <tbody>\n",
              "    <tr>\n",
              "      <th>0</th>\n",
              "      <td>16120100160021008773</td>\n",
              "      <td>0261:HOSIERY</td>\n",
              "      <td>250</td>\n",
              "      <td>2</td>\n",
              "    </tr>\n",
              "    <tr>\n",
              "      <th>1</th>\n",
              "      <td>16120100160021008773</td>\n",
              "      <td>0634:VITAMINS &amp; HLTH AIDS</td>\n",
              "      <td>102</td>\n",
              "      <td>1</td>\n",
              "    </tr>\n",
              "    <tr>\n",
              "      <th>2</th>\n",
              "      <td>16120100160021008773</td>\n",
              "      <td>0879:PET SUPPLIES</td>\n",
              "      <td>158</td>\n",
              "      <td>2</td>\n",
              "    </tr>\n",
              "    <tr>\n",
              "      <th>3</th>\n",
              "      <td>16120100160021008773</td>\n",
              "      <td>0973:CANDY</td>\n",
              "      <td>175</td>\n",
              "      <td>2</td>\n",
              "    </tr>\n",
              "    <tr>\n",
              "      <th>4</th>\n",
              "      <td>16120100160021008773</td>\n",
              "      <td>0982:SPIRITS</td>\n",
              "      <td>176</td>\n",
              "      <td>1</td>\n",
              "    </tr>\n",
              "    <tr>\n",
              "      <th>5</th>\n",
              "      <td>16120100160021008773</td>\n",
              "      <td>0983:WINE</td>\n",
              "      <td>177</td>\n",
              "      <td>4</td>\n",
              "    </tr>\n",
              "    <tr>\n",
              "      <th>6</th>\n",
              "      <td>16120100160021008773</td>\n",
              "      <td>0991:TOBACCO</td>\n",
              "      <td>179</td>\n",
              "      <td>2</td>\n",
              "    </tr>\n",
              "    <tr>\n",
              "      <th>7</th>\n",
              "      <td>16120100160021008774</td>\n",
              "      <td>0597:HEALTH AIDS</td>\n",
              "      <td>93</td>\n",
              "      <td>1</td>\n",
              "    </tr>\n",
              "    <tr>\n",
              "      <th>8</th>\n",
              "      <td>16120100160021008774</td>\n",
              "      <td>0604:PERSONAL CARE</td>\n",
              "      <td>100</td>\n",
              "      <td>5</td>\n",
              "    </tr>\n",
              "    <tr>\n",
              "      <th>9</th>\n",
              "      <td>16120100160021008775</td>\n",
              "      <td>0819:PRE-RECORDED A/V</td>\n",
              "      <td>135</td>\n",
              "      <td>1</td>\n",
              "    </tr>\n",
              "  </tbody>\n",
              "</table>\n",
              "</div>"
            ],
            "text/plain": [
              "                POS Txn                       Dept   ID  Sales U\n",
              "0  16120100160021008773               0261:HOSIERY  250        2\n",
              "1  16120100160021008773  0634:VITAMINS & HLTH AIDS  102        1\n",
              "2  16120100160021008773          0879:PET SUPPLIES  158        2\n",
              "3  16120100160021008773                 0973:CANDY  175        2\n",
              "4  16120100160021008773               0982:SPIRITS  176        1\n",
              "5  16120100160021008773                  0983:WINE  177        4\n",
              "6  16120100160021008773               0991:TOBACCO  179        2\n",
              "7  16120100160021008774           0597:HEALTH AIDS   93        1\n",
              "8  16120100160021008774         0604:PERSONAL CARE  100        5\n",
              "9  16120100160021008775      0819:PRE-RECORDED A/V  135        1"
            ]
          },
          "metadata": {
            "tags": []
          },
          "execution_count": 155
        }
      ]
    },
    {
      "cell_type": "markdown",
      "metadata": {
        "id": "njq85E7l0I9F",
        "colab_type": "text"
      },
      "source": [
        "Create a pandas DataFrame of frequent itemsets as generated by the apriori function"
      ]
    },
    {
      "cell_type": "code",
      "metadata": {
        "id": "kAEMAiCoTZFN",
        "colab_type": "code",
        "outputId": "7b8a5d7a-57ce-414d-8e7b-fd2dd43b8e42",
        "colab": {
          "base_uri": "https://localhost:8080/",
          "height": 638
        }
      },
      "source": [
        "dataset = data.groupby('POS Txn')['Dept'].apply(list).values.tolist()\n",
        "te = TransactionEncoder()\n",
        "te_ary = te.fit(dataset).transform(dataset)\n",
        "df = pd.DataFrame(te_ary, columns=te.columns_)\n",
        "frequent_itemsets = apriori(df, min_support=0.03, use_colnames=True).sort_values(by=\"support\", ascending=False)\n",
        "frequent_itemsets"
      ],
      "execution_count": 154,
      "outputs": [
        {
          "output_type": "execute_result",
          "data": {
            "text/html": [
              "<div>\n",
              "<style scoped>\n",
              "    .dataframe tbody tr th:only-of-type {\n",
              "        vertical-align: middle;\n",
              "    }\n",
              "\n",
              "    .dataframe tbody tr th {\n",
              "        vertical-align: top;\n",
              "    }\n",
              "\n",
              "    .dataframe thead th {\n",
              "        text-align: right;\n",
              "    }\n",
              "</style>\n",
              "<table border=\"1\" class=\"dataframe\">\n",
              "  <thead>\n",
              "    <tr style=\"text-align: right;\">\n",
              "      <th></th>\n",
              "      <th>support</th>\n",
              "      <th>itemsets</th>\n",
              "    </tr>\n",
              "  </thead>\n",
              "  <tbody>\n",
              "    <tr>\n",
              "      <th>12</th>\n",
              "      <td>0.152132</td>\n",
              "      <td>(0982:SPIRITS)</td>\n",
              "    </tr>\n",
              "    <tr>\n",
              "      <th>11</th>\n",
              "      <td>0.133236</td>\n",
              "      <td>(0973:CANDY)</td>\n",
              "    </tr>\n",
              "    <tr>\n",
              "      <th>10</th>\n",
              "      <td>0.122578</td>\n",
              "      <td>(0962:BEVERAGES)</td>\n",
              "    </tr>\n",
              "    <tr>\n",
              "      <th>2</th>\n",
              "      <td>0.096899</td>\n",
              "      <td>(0597:HEALTH AIDS)</td>\n",
              "    </tr>\n",
              "    <tr>\n",
              "      <th>13</th>\n",
              "      <td>0.093023</td>\n",
              "      <td>(0983:WINE)</td>\n",
              "    </tr>\n",
              "    <tr>\n",
              "      <th>15</th>\n",
              "      <td>0.089632</td>\n",
              "      <td>(0991:TOBACCO)</td>\n",
              "    </tr>\n",
              "    <tr>\n",
              "      <th>7</th>\n",
              "      <td>0.076550</td>\n",
              "      <td>(0836:HOUSEHOLD CLEANING)</td>\n",
              "    </tr>\n",
              "    <tr>\n",
              "      <th>4</th>\n",
              "      <td>0.073643</td>\n",
              "      <td>(0604:PERSONAL CARE)</td>\n",
              "    </tr>\n",
              "    <tr>\n",
              "      <th>3</th>\n",
              "      <td>0.064438</td>\n",
              "      <td>(0603:BEAUTY CARE)</td>\n",
              "    </tr>\n",
              "    <tr>\n",
              "      <th>14</th>\n",
              "      <td>0.064438</td>\n",
              "      <td>(0984:BEER)</td>\n",
              "    </tr>\n",
              "    <tr>\n",
              "      <th>0</th>\n",
              "      <td>0.054264</td>\n",
              "      <td>(0072:BARBER SERVICES)</td>\n",
              "    </tr>\n",
              "    <tr>\n",
              "      <th>8</th>\n",
              "      <td>0.049903</td>\n",
              "      <td>(0879:PET SUPPLIES)</td>\n",
              "    </tr>\n",
              "    <tr>\n",
              "      <th>1</th>\n",
              "      <td>0.049903</td>\n",
              "      <td>(0532:AMERICAN GREETINGS)</td>\n",
              "    </tr>\n",
              "    <tr>\n",
              "      <th>9</th>\n",
              "      <td>0.047965</td>\n",
              "      <td>(0961:GENERAL GROCERIES)</td>\n",
              "    </tr>\n",
              "    <tr>\n",
              "      <th>6</th>\n",
              "      <td>0.045543</td>\n",
              "      <td>(0646:SEASONAL)</td>\n",
              "    </tr>\n",
              "    <tr>\n",
              "      <th>18</th>\n",
              "      <td>0.037306</td>\n",
              "      <td>(0983:WINE, 0982:SPIRITS)</td>\n",
              "    </tr>\n",
              "    <tr>\n",
              "      <th>5</th>\n",
              "      <td>0.032946</td>\n",
              "      <td>(0640:TOYS)</td>\n",
              "    </tr>\n",
              "    <tr>\n",
              "      <th>17</th>\n",
              "      <td>0.032461</td>\n",
              "      <td>(0962:BEVERAGES, 0973:CANDY)</td>\n",
              "    </tr>\n",
              "    <tr>\n",
              "      <th>16</th>\n",
              "      <td>0.031008</td>\n",
              "      <td>(0597:HEALTH AIDS, 0604:PERSONAL CARE)</td>\n",
              "    </tr>\n",
              "  </tbody>\n",
              "</table>\n",
              "</div>"
            ],
            "text/plain": [
              "     support                                itemsets\n",
              "12  0.152132                          (0982:SPIRITS)\n",
              "11  0.133236                            (0973:CANDY)\n",
              "10  0.122578                        (0962:BEVERAGES)\n",
              "2   0.096899                      (0597:HEALTH AIDS)\n",
              "13  0.093023                             (0983:WINE)\n",
              "15  0.089632                          (0991:TOBACCO)\n",
              "7   0.076550               (0836:HOUSEHOLD CLEANING)\n",
              "4   0.073643                    (0604:PERSONAL CARE)\n",
              "3   0.064438                      (0603:BEAUTY CARE)\n",
              "14  0.064438                             (0984:BEER)\n",
              "0   0.054264                  (0072:BARBER SERVICES)\n",
              "8   0.049903                     (0879:PET SUPPLIES)\n",
              "1   0.049903               (0532:AMERICAN GREETINGS)\n",
              "9   0.047965                (0961:GENERAL GROCERIES)\n",
              "6   0.045543                         (0646:SEASONAL)\n",
              "18  0.037306               (0983:WINE, 0982:SPIRITS)\n",
              "5   0.032946                             (0640:TOYS)\n",
              "17  0.032461            (0962:BEVERAGES, 0973:CANDY)\n",
              "16  0.031008  (0597:HEALTH AIDS, 0604:PERSONAL CARE)"
            ]
          },
          "metadata": {
            "tags": []
          },
          "execution_count": 154
        }
      ]
    },
    {
      "cell_type": "markdown",
      "metadata": {
        "id": "th5iJXLSxe4W",
        "colab_type": "text"
      },
      "source": [
        "Interested in rules derived from the frequent itemsets only if the level of confidence is above the 30 percent threshold"
      ]
    },
    {
      "cell_type": "code",
      "metadata": {
        "id": "szmGkyoRUdks",
        "colab_type": "code",
        "outputId": "87c55036-5704-4963-b6ef-1dc496e311aa",
        "colab": {
          "base_uri": "https://localhost:8080/",
          "height": 142
        }
      },
      "source": [
        "association_rules(frequent_itemsets, metric=\"confidence\", min_threshold=0.3)"
      ],
      "execution_count": 153,
      "outputs": [
        {
          "output_type": "execute_result",
          "data": {
            "text/html": [
              "<div>\n",
              "<style scoped>\n",
              "    .dataframe tbody tr th:only-of-type {\n",
              "        vertical-align: middle;\n",
              "    }\n",
              "\n",
              "    .dataframe tbody tr th {\n",
              "        vertical-align: top;\n",
              "    }\n",
              "\n",
              "    .dataframe thead th {\n",
              "        text-align: right;\n",
              "    }\n",
              "</style>\n",
              "<table border=\"1\" class=\"dataframe\">\n",
              "  <thead>\n",
              "    <tr style=\"text-align: right;\">\n",
              "      <th></th>\n",
              "      <th>antecedents</th>\n",
              "      <th>consequents</th>\n",
              "      <th>antecedent support</th>\n",
              "      <th>consequent support</th>\n",
              "      <th>support</th>\n",
              "      <th>confidence</th>\n",
              "      <th>lift</th>\n",
              "      <th>leverage</th>\n",
              "      <th>conviction</th>\n",
              "    </tr>\n",
              "  </thead>\n",
              "  <tbody>\n",
              "    <tr>\n",
              "      <th>0</th>\n",
              "      <td>(0983:WINE)</td>\n",
              "      <td>(0982:SPIRITS)</td>\n",
              "      <td>0.093023</td>\n",
              "      <td>0.152132</td>\n",
              "      <td>0.037306</td>\n",
              "      <td>0.401042</td>\n",
              "      <td>2.636146</td>\n",
              "      <td>0.023154</td>\n",
              "      <td>1.415571</td>\n",
              "    </tr>\n",
              "    <tr>\n",
              "      <th>1</th>\n",
              "      <td>(0597:HEALTH AIDS)</td>\n",
              "      <td>(0604:PERSONAL CARE)</td>\n",
              "      <td>0.096899</td>\n",
              "      <td>0.073643</td>\n",
              "      <td>0.031008</td>\n",
              "      <td>0.320000</td>\n",
              "      <td>4.345263</td>\n",
              "      <td>0.023872</td>\n",
              "      <td>1.362289</td>\n",
              "    </tr>\n",
              "    <tr>\n",
              "      <th>2</th>\n",
              "      <td>(0604:PERSONAL CARE)</td>\n",
              "      <td>(0597:HEALTH AIDS)</td>\n",
              "      <td>0.073643</td>\n",
              "      <td>0.096899</td>\n",
              "      <td>0.031008</td>\n",
              "      <td>0.421053</td>\n",
              "      <td>4.345263</td>\n",
              "      <td>0.023872</td>\n",
              "      <td>1.559901</td>\n",
              "    </tr>\n",
              "  </tbody>\n",
              "</table>\n",
              "</div>"
            ],
            "text/plain": [
              "            antecedents           consequents  ...  leverage  conviction\n",
              "0           (0983:WINE)        (0982:SPIRITS)  ...  0.023154    1.415571\n",
              "1    (0597:HEALTH AIDS)  (0604:PERSONAL CARE)  ...  0.023872    1.362289\n",
              "2  (0604:PERSONAL CARE)    (0597:HEALTH AIDS)  ...  0.023872    1.559901\n",
              "\n",
              "[3 rows x 9 columns]"
            ]
          },
          "metadata": {
            "tags": []
          },
          "execution_count": 153
        }
      ]
    },
    {
      "cell_type": "markdown",
      "metadata": {
        "id": "M7buEHA-1BIi",
        "colab_type": "text"
      },
      "source": [
        "**Business Use Case**\n",
        "\n",
        "Make **two** business recommendations to deliver business outcomes from this association rule based recommender system\n",
        "\n",
        "Online retail company XYZ sells various products and looking to increase its revenue by promoting cross-selling (i.e. selling related or complementary items) opportunities to its customers. \n",
        "\n",
        "The company is looking to apply advanced analytics on its historical transactional data to answer the following business question:\n",
        "When a customer buys an item, what are the related or complementary items that can be presented to them to promote cross-selling?\n",
        "\n",
        "\n",
        "\n",
        "```\n",
        "1. When a customer buys some wine, the company can promote Spirits to them for cross-selling.\n",
        "2. When a customer buys health aids, the  company can promote personal care items to them for cross sellings.\n",
        "```\n",
        "\n",
        "\n",
        " "
      ]
    }
  ]
}
